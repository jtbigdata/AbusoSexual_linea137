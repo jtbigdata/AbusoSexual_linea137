{
 "cells": [
  {
   "cell_type": "markdown",
   "id": "6f1ea5de-6838-45e6-a4b1-134fae3dd33e",
   "metadata": {},
   "source": [
    "<header>\n",
    "<h1 style=\"text-align: center;\">Abusos Sexuales en Argentina<h1/>\n",
    "<p style=\"text-align: center;\"><img  src=\"linea137.jpg\" alt=\"description\" width=600\" height=\"100\" />\n",
    "</p>\n",
    "\n",
    "<h2>Autores</h2>\n",
    "    <p>Julio Torres.</p>\n",
    "    <p>juliotorres.fisica.ucv@gmail.com</p>\n",
    "</header>"
   ]
  },
  {
   "cell_type": "markdown",
   "id": "ec32169f-1c1c-49b3-a19f-8d2d2b3f6621",
   "metadata": {},
   "source": [
    "<H1>Importación de librerías y de la base de datos</H1>"
   ]
  },
  {
   "cell_type": "code",
   "execution_count": 5,
   "id": "9f6d5342-2096-4d5b-bccc-a9d137af3159",
   "metadata": {},
   "outputs": [],
   "source": [
    "import pandas as pd\n",
    "import numpy as np"
   ]
  },
  {
   "cell_type": "code",
   "execution_count": 6,
   "id": "3453161e-8229-4748-85b2-6fbef52b45d9",
   "metadata": {},
   "outputs": [],
   "source": [
    "#https://github.com/datos-justicia-argentina/Linea-137-victimas-de-violencia-sexual-llamados-e-intervenciones-domiciliarias/blob/master/Linea-137-victimas-de-violencia-sexual-llamados-e-intervenciones-domiciliarias-metadata.md"
   ]
  },
  {
   "cell_type": "code",
   "execution_count": 7,
   "id": "130596e9-9c58-4551-83c9-79b8a5ae5f2f",
   "metadata": {},
   "outputs": [],
   "source": [
    "url1='/home/julio/jupyter_files/ArgentinaSeguridad/linea137/intervenciones-domiciliarias-abuso-sexual-2018.csv'\n",
    "df1 = pd.read_csv(url1)\n",
    "\n",
    "url2='/home/julio/jupyter_files/ArgentinaSeguridad/linea137/intervenciones-domiciliarias-abuso-sexual-2019.csv'\n",
    "df2 = pd.read_csv(url2)\n",
    "\n",
    "url3='/home/julio/jupyter_files/ArgentinaSeguridad/linea137/intervenciones-domiciliarias-abuso-sexual-2020.csv'\n",
    "df3 = pd.read_csv(url3)\n",
    "\n",
    "url4='/home/julio/jupyter_files/ArgentinaSeguridad/linea137/intervenciones-domiciliarias-abuso-sexual-2021.csv'\n",
    "df4 = pd.read_csv(url4)\n",
    "\n",
    "url5='/home/julio/jupyter_files/ArgentinaSeguridad/linea137/intervenciones-domiciliarias-abuso-sexual-2022.csv'\n",
    "df5 = pd.read_csv(url5)\n",
    "\n",
    "url6='/home/julio/jupyter_files/ArgentinaSeguridad/linea137/intervenciones-domiciliarias-abuso-sexual-2023.csv'\n",
    "df6 = pd.read_csv(url6)\n",
    "\n",
    "url7='/home/julio/jupyter_files/ArgentinaSeguridad/linea137/intervenciones-domiciliarias-abuso-sexual-2024.csv'\n",
    "df7 = pd.read_csv(url7)"
   ]
  },
  {
   "cell_type": "code",
   "execution_count": 8,
   "id": "d200b136-0aeb-4e64-9041-cc1804754db3",
   "metadata": {},
   "outputs": [
    {
     "data": {
      "text/plain": [
       "Index(['intervencion_fecha_hora', 'victima_edad', 'victima_convive_agresor',\n",
       "       'victima_nacionalidad', 'victima_genero', 'victima_discapacidad',\n",
       "       'victima_vinculo_agresor', 'vs_violacion_via_vaginal',\n",
       "       'vs_violacion_via_anal', 'vs_violacion_via_oral',\n",
       "       'vs_tentativa_violacion', 'vs_tocamiento_sexual',\n",
       "       'vs_intento_tocamiento', 'vs_Intento_violación_tercera_persona',\n",
       "       'vs_grooming', 'vs_exhibicionismo',\n",
       "       'vs_amenazas_verbales_contenido_sexual', 'vs_explotacion_sexual',\n",
       "       'vs_explotacion_sexual_comercial',\n",
       "       'vs_explotacion_sexual_viajes_turismo',\n",
       "       'vs_sospecha_trata_personas_fines_sexuales',\n",
       "       'vs_existencia_facilitador_corrupcion_nnya',\n",
       "       'vs_obligacion_sacarse_fotos_pornograficas',\n",
       "       'vs_eyaculacion_partes_cuerpo', 'vs_acoso_sexual',\n",
       "       'vs_iniciacion_sexual_forzada_inducida',\n",
       "       'vs_otra_forma_violencia_sexual', 'vs_no_sabe_no_contesta',\n",
       "       'ofv_sentimiento_amenaza', 'ofv_amenaza_explicita',\n",
       "       'ofv_violencia_fisica', 'ofv_intento_ahorcar', 'ofv_intento_quemar',\n",
       "       'ofv_intento_ahogar', 'ofv_amenaza_muerte',\n",
       "       'ofv_uso_sustancias_psicoactivas', 'ofv_intento_privacion_libertad',\n",
       "       'ofv_privacion_libertad', 'ofv_uso_arma_blanca', 'ofv_uso_arma_fuego',\n",
       "       'ofv_enganio_seduccion', 'ofv_intento_matar',\n",
       "       'ofv_uso_animal_victimizar', 'ofv_grooming', 'ofv_otra_forma_violencia',\n",
       "       'ofv_no_sabe_no_contesta'],\n",
       "      dtype='object')"
      ]
     },
     "execution_count": 8,
     "metadata": {},
     "output_type": "execute_result"
    }
   ],
   "source": [
    "df1.columns"
   ]
  },
  {
   "cell_type": "code",
   "execution_count": 9,
   "id": "e6e155d7-0a60-4cd5-be46-93bebc25c9ba",
   "metadata": {},
   "outputs": [],
   "source": [
    "# Crear una lista con los DataFrames\n",
    "dataframes = [df1, df2, df3, df4, df5, df6, df7]\n",
    "\n",
    "# Concatenar los DataFrames\n",
    "dfi = pd.concat(dataframes, ignore_index=True)"
   ]
  },
  {
   "cell_type": "code",
   "execution_count": 10,
   "id": "60c0c298-0eb1-4b00-a71f-30ccebdfa527",
   "metadata": {},
   "outputs": [],
   "source": [
    "df1=dfi.copy()"
   ]
  },
  {
   "cell_type": "code",
   "execution_count": 11,
   "id": "15937758-99d2-4e4d-988e-da64c1ff99aa",
   "metadata": {},
   "outputs": [
    {
     "name": "stdout",
     "output_type": "stream",
     "text": [
      "<class 'pandas.core.frame.DataFrame'>\n",
      "RangeIndex: 6252 entries, 0 to 6251\n",
      "Data columns (total 49 columns):\n",
      " #   Column                                     Non-Null Count  Dtype  \n",
      "---  ------                                     --------------  -----  \n",
      " 0   intervencion_fecha_hora                    6252 non-null   object \n",
      " 1   victima_edad                               6252 non-null   object \n",
      " 2   victima_convive_agresor                    6252 non-null   object \n",
      " 3   victima_nacionalidad                       6252 non-null   object \n",
      " 4   victima_genero                             6252 non-null   object \n",
      " 5   victima_discapacidad                       6252 non-null   object \n",
      " 6   victima_vinculo_agresor                    6220 non-null   object \n",
      " 7   vs_violacion_via_vaginal                   6252 non-null   object \n",
      " 8   vs_violacion_via_anal                      6252 non-null   object \n",
      " 9   vs_violacion_via_oral                      6252 non-null   object \n",
      " 10  vs_tentativa_violacion                     6252 non-null   object \n",
      " 11  vs_tocamiento_sexual                       6252 non-null   object \n",
      " 12  vs_intento_tocamiento                      6252 non-null   object \n",
      " 13  vs_Intento_violación_tercera_persona       6252 non-null   object \n",
      " 14  vs_grooming                                5329 non-null   object \n",
      " 15  vs_exhibicionismo                          6252 non-null   object \n",
      " 16  vs_amenazas_verbales_contenido_sexual      6252 non-null   object \n",
      " 17  vs_explotacion_sexual                      6252 non-null   object \n",
      " 18  vs_explotacion_sexual_comercial            6252 non-null   object \n",
      " 19  vs_explotacion_sexual_viajes_turismo       6252 non-null   object \n",
      " 20  vs_sospecha_trata_personas_fines_sexuales  6252 non-null   object \n",
      " 21  vs_existencia_facilitador_corrupcion_nnya  6252 non-null   object \n",
      " 22  vs_obligacion_sacarse_fotos_pornograficas  6252 non-null   object \n",
      " 23  vs_eyaculacion_partes_cuerpo               6252 non-null   object \n",
      " 24  vs_acoso_sexual                            6252 non-null   object \n",
      " 25  vs_iniciacion_sexual_forzada_inducida      6252 non-null   object \n",
      " 26  vs_otra_forma_violencia_sexual             6252 non-null   object \n",
      " 27  vs_no_sabe_no_contesta                     6252 non-null   object \n",
      " 28  ofv_sentimiento_amenaza                    6252 non-null   object \n",
      " 29  ofv_amenaza_explicita                      6252 non-null   object \n",
      " 30  ofv_violencia_fisica                       6252 non-null   object \n",
      " 31  ofv_intento_ahorcar                        6252 non-null   object \n",
      " 32  ofv_intento_quemar                         6252 non-null   object \n",
      " 33  ofv_intento_ahogar                         6252 non-null   object \n",
      " 34  ofv_amenaza_muerte                         6252 non-null   object \n",
      " 35  ofv_uso_sustancias_psicoactivas            6252 non-null   object \n",
      " 36  ofv_intento_privacion_libertad             6252 non-null   object \n",
      " 37  ofv_privacion_libertad                     6252 non-null   object \n",
      " 38  ofv_uso_arma_blanca                        6252 non-null   object \n",
      " 39  ofv_uso_arma_fuego                         6252 non-null   object \n",
      " 40  ofv_enganio_seduccion                      6252 non-null   object \n",
      " 41  ofv_intento_matar                          6252 non-null   object \n",
      " 42  ofv_uso_animal_victimizar                  6252 non-null   object \n",
      " 43  ofv_grooming                               5329 non-null   object \n",
      " 44  ofv_otra_forma_violencia                   6252 non-null   object \n",
      " 45  ofv_no_sabe_no_contesta                    6252 non-null   object \n",
      " 46  caso_id                                    3381 non-null   float64\n",
      " 47  vs_violencia_digital                       923 non-null    object \n",
      " 48  ofv_extorsion_redes_sociales               923 non-null    object \n",
      "dtypes: float64(1), object(48)\n",
      "memory usage: 2.3+ MB\n"
     ]
    }
   ],
   "source": [
    "df1.info()"
   ]
  },
  {
   "cell_type": "code",
   "execution_count": 12,
   "id": "96e6542c-6725-49de-8489-eb060658a110",
   "metadata": {},
   "outputs": [
    {
     "data": {
      "text/plain": [
       "(6252, 49)"
      ]
     },
     "execution_count": 12,
     "metadata": {},
     "output_type": "execute_result"
    }
   ],
   "source": [
    "df1.shape"
   ]
  },
  {
   "cell_type": "code",
   "execution_count": 13,
   "id": "9b77136f-2cc6-49cd-bf8a-d532e2d0db16",
   "metadata": {},
   "outputs": [
    {
     "name": "stdout",
     "output_type": "stream",
     "text": [
      "intervencion_fecha_hora                       0.000000\n",
      "victima_edad                                  0.000000\n",
      "victima_convive_agresor                       0.000000\n",
      "victima_nacionalidad                          0.000000\n",
      "victima_genero                                0.000000\n",
      "victima_discapacidad                          0.000000\n",
      "victima_vinculo_agresor                       0.511836\n",
      "vs_violacion_via_vaginal                      0.000000\n",
      "vs_violacion_via_anal                         0.000000\n",
      "vs_violacion_via_oral                         0.000000\n",
      "vs_tentativa_violacion                        0.000000\n",
      "vs_tocamiento_sexual                          0.000000\n",
      "vs_intento_tocamiento                         0.000000\n",
      "vs_Intento_violación_tercera_persona          0.000000\n",
      "vs_grooming                                  14.763276\n",
      "vs_exhibicionismo                             0.000000\n",
      "vs_amenazas_verbales_contenido_sexual         0.000000\n",
      "vs_explotacion_sexual                         0.000000\n",
      "vs_explotacion_sexual_comercial               0.000000\n",
      "vs_explotacion_sexual_viajes_turismo          0.000000\n",
      "vs_sospecha_trata_personas_fines_sexuales     0.000000\n",
      "vs_existencia_facilitador_corrupcion_nnya     0.000000\n",
      "vs_obligacion_sacarse_fotos_pornograficas     0.000000\n",
      "vs_eyaculacion_partes_cuerpo                  0.000000\n",
      "vs_acoso_sexual                               0.000000\n",
      "vs_iniciacion_sexual_forzada_inducida         0.000000\n",
      "vs_otra_forma_violencia_sexual                0.000000\n",
      "vs_no_sabe_no_contesta                        0.000000\n",
      "ofv_sentimiento_amenaza                       0.000000\n",
      "ofv_amenaza_explicita                         0.000000\n",
      "ofv_violencia_fisica                          0.000000\n",
      "ofv_intento_ahorcar                           0.000000\n",
      "ofv_intento_quemar                            0.000000\n",
      "ofv_intento_ahogar                            0.000000\n",
      "ofv_amenaza_muerte                            0.000000\n",
      "ofv_uso_sustancias_psicoactivas               0.000000\n",
      "ofv_intento_privacion_libertad                0.000000\n",
      "ofv_privacion_libertad                        0.000000\n",
      "ofv_uso_arma_blanca                           0.000000\n",
      "ofv_uso_arma_fuego                            0.000000\n",
      "ofv_enganio_seduccion                         0.000000\n",
      "ofv_intento_matar                             0.000000\n",
      "ofv_uso_animal_victimizar                     0.000000\n",
      "ofv_grooming                                 14.763276\n",
      "ofv_otra_forma_violencia                      0.000000\n",
      "ofv_no_sabe_no_contesta                       0.000000\n",
      "caso_id                                      45.921305\n",
      "vs_violencia_digital                         85.236724\n",
      "ofv_extorsion_redes_sociales                 85.236724\n",
      "dtype: float64\n"
     ]
    }
   ],
   "source": [
    "# Calcular el porcentaje de valores nulos por columna\n",
    "porcentaje_nulos = df1.isnull().mean() * 100\n",
    "\n",
    "# Mostrar el porcentaje de valores nulos por columna\n",
    "print(porcentaje_nulos)"
   ]
  },
  {
   "cell_type": "markdown",
   "id": "0316be81-3368-46ea-842e-6de2ab3e283b",
   "metadata": {},
   "source": [
    "<H2>intervencion_fecha_hora</H2>"
   ]
  },
  {
   "cell_type": "code",
   "execution_count": 14,
   "id": "025ef8a9-cb65-41a8-a09c-9cd153527d17",
   "metadata": {},
   "outputs": [
    {
     "data": {
      "text/plain": [
       "0          2018/01/01 19:12\n",
       "1          2018/01/01 19:44\n",
       "2          2018/01/01 22:45\n",
       "3          2018/01/02 01:37\n",
       "4          2018/01/02 09:24\n",
       "               ...         \n",
       "6247    2024-04-28 18:31:32\n",
       "6248    2024-04-29 19:27:07\n",
       "6249    2024-04-29 22:32:23\n",
       "6250    2024-04-29 23:33:39\n",
       "6251    2024-04-30 03:46:18\n",
       "Name: intervencion_fecha_hora, Length: 6252, dtype: object"
      ]
     },
     "execution_count": 14,
     "metadata": {},
     "output_type": "execute_result"
    }
   ],
   "source": [
    "df1.intervencion_fecha_hora"
   ]
  },
  {
   "cell_type": "code",
   "execution_count": 17,
   "id": "3d415096-683e-495b-91f2-c0f488fb673a",
   "metadata": {},
   "outputs": [],
   "source": [
    "# Convertir la columna 'intervencion_fecha_hora' a tipo datetime, limpiando caracteres no deseados\n",
    "df1['intervencion_fecha_hora'] = df1['intervencion_fecha_hora'].str.strip('?').str.strip('\"')\n",
    "df1['fecha_hora'] = pd.to_datetime(df1['intervencion_fecha_hora'], format='%Y-%m-%d %H:%M:%S', errors='coerce')\n",
    "\n",
    "# Crear nuevas columnas para año, mes, día y hora usando la columna convertida 'fecha_hora'\n",
    "df1['año'] = df1['fecha_hora'].dt.year\n",
    "df1['mes'] = df1['fecha_hora'].dt.month\n",
    "df1['día'] = df1['fecha_hora'].dt.day\n",
    "df1['hora'] = df1['fecha_hora'].dt.hour"
   ]
  },
  {
   "cell_type": "markdown",
   "id": "677a8bc0-e53d-4de5-8843-95404b3713b5",
   "metadata": {},
   "source": [
    "<H2>victima_edad</H2>"
   ]
  },
  {
   "cell_type": "code",
   "execution_count": 18,
   "id": "defdceca-c4e5-4c71-9660-8f6e3547b5d8",
   "metadata": {},
   "outputs": [
    {
     "name": "stdout",
     "output_type": "stream",
     "text": [
      "['13' '38' '50' '71' '31' '67' '20' '11' '8' '49' '10' '2' '32' '18' '16'\n",
      " '5' '15' '33' '19' '3' '82' '30' '70' '1' '22' '12' '9' '7' '17' '43'\n",
      " '40' '39' '14' '28' 'NS/NC' '23' '24' '48' '46' '21' '6' '53' '27' '41'\n",
      " '65' '26' '25' '4' '42' '36' '47' '37' '58' '64' '34' '29' '35' '45' '59'\n",
      " '63' '74' '61' '55' '52' '51' '0' '78' '57' '44' '54' '69' '62' '999'\n",
      " '171' '60' '72' '56' '75' '68' '79' '99' '81' '66' 'Sin dato' '73' '89'\n",
      " '80' '76']\n"
     ]
    }
   ],
   "source": [
    "valores_unicos = df1['victima_edad'].unique()\n",
    "print(valores_unicos)"
   ]
  },
  {
   "cell_type": "code",
   "execution_count": 19,
   "id": "380c4563-ed5e-4be3-beff-e01432fa41bb",
   "metadata": {},
   "outputs": [
    {
     "data": {
      "text/plain": [
       "15       328\n",
       "14       319\n",
       "13       302\n",
       "16       294\n",
       "12       284\n",
       "17       262\n",
       "11       252\n",
       "18       201\n",
       "20       192\n",
       "4        181\n",
       "19       181\n",
       "10       177\n",
       "21       175\n",
       "9        165\n",
       "5        162\n",
       "3        159\n",
       "8        158\n",
       "6        156\n",
       "24       156\n",
       "22       144\n",
       "7        142\n",
       "23       136\n",
       "25       121\n",
       "26       114\n",
       "27       105\n",
       "28        86\n",
       "29        85\n",
       "31        80\n",
       "30        79\n",
       "32        72\n",
       "33        71\n",
       "2         69\n",
       "37        55\n",
       "38        51\n",
       "34        49\n",
       "36        48\n",
       "40        48\n",
       "35        47\n",
       "39        46\n",
       "41        39\n",
       "42        37\n",
       "45        37\n",
       "43        35\n",
       "47        31\n",
       "44        29\n",
       "NS/NC     28\n",
       "46        26\n",
       "1         21\n",
       "49        20\n",
       "48        17\n",
       "51        16\n",
       "52        16\n",
       "54        13\n",
       "56        10\n",
       "50        10\n",
       "53        10\n",
       "55         9\n",
       "64         8\n",
       "0          8\n",
       "67         7\n",
       "Name: victima_edad, dtype: int64"
      ]
     },
     "execution_count": 19,
     "metadata": {},
     "output_type": "execute_result"
    }
   ],
   "source": [
    "df1.victima_edad.value_counts().head(60)"
   ]
  },
  {
   "cell_type": "code",
   "execution_count": 20,
   "id": "559b7d67-ec29-4f32-ae97-d0aafacb2004",
   "metadata": {},
   "outputs": [
    {
     "data": {
      "text/plain": [
       "(6252, 54)"
      ]
     },
     "execution_count": 20,
     "metadata": {},
     "output_type": "execute_result"
    }
   ],
   "source": [
    "df1.shape"
   ]
  },
  {
   "cell_type": "code",
   "execution_count": 21,
   "id": "9998ef7a-837e-4acd-a2ad-df7f58f990cf",
   "metadata": {},
   "outputs": [],
   "source": [
    "# Valores a eliminar\n",
    "valores_a_eliminar = ['NS/NC', 'Sin dato', '999']\n",
    "\n",
    "# Filtrar el DataFrame para excluir las filas que contienen esos valores\n",
    "df1 = df1[~df1['victima_edad'].isin(valores_a_eliminar)]\n",
    "\n",
    "# Verificar el DataFrame después de la eliminación\n",
    "#print(df1)"
   ]
  },
  {
   "cell_type": "code",
   "execution_count": 22,
   "id": "bb199b1a-74c6-4828-b75b-c7380ff83c89",
   "metadata": {},
   "outputs": [],
   "source": [
    "df1['victima_edad'] = df1['victima_edad'].astype(int)"
   ]
  },
  {
   "cell_type": "markdown",
   "id": "f6ee7cad-b298-4823-87ef-79fa138b6c0c",
   "metadata": {},
   "source": [
    "<H2>victima_convive_agresor</H2>"
   ]
  },
  {
   "cell_type": "code",
   "execution_count": 23,
   "id": "6510ce7a-db0c-4abb-a063-3a1ad178fa38",
   "metadata": {},
   "outputs": [
    {
     "data": {
      "text/plain": [
       "NO    4841\n",
       "SI    1379\n",
       "Name: victima_convive_agresor, dtype: int64"
      ]
     },
     "execution_count": 23,
     "metadata": {},
     "output_type": "execute_result"
    }
   ],
   "source": [
    "df1.victima_convive_agresor.value_counts()"
   ]
  },
  {
   "cell_type": "markdown",
   "id": "564650e4-d6db-45ee-8ddc-79f48971a84f",
   "metadata": {},
   "source": [
    "<h2>victima_nacionalidad</h2>"
   ]
  },
  {
   "cell_type": "code",
   "execution_count": 26,
   "id": "8afe125d-928d-4a15-8609-92a0915741be",
   "metadata": {},
   "outputs": [
    {
     "data": {
      "text/plain": [
       "Argentina     5105\n",
       "Boliviana      341\n",
       "Paraguaya      250\n",
       "Peruana        186\n",
       "Otra           149\n",
       "NS/NC           87\n",
       "Brasileña       38\n",
       "Uruguaya        21\n",
       "Colombiana      18\n",
       "Venezolana      18\n",
       "Chilena          7\n",
       "Name: victima_nacionalidad, dtype: int64"
      ]
     },
     "execution_count": 26,
     "metadata": {},
     "output_type": "execute_result"
    }
   ],
   "source": [
    "df1.victima_nacionalidad.value_counts()"
   ]
  },
  {
   "cell_type": "code",
   "execution_count": 25,
   "id": "ac38441f-a53d-4dc6-a9e7-59a50122e945",
   "metadata": {},
   "outputs": [],
   "source": [
    "# Reemplazar los valores especificados por 'Otra'\n",
    "valores_a_reemplazar = ['Estadounidense', 'Mexicana', 'Haitiana', 'Corea del Sur', 'Dominicana', 'Japonesa']\n",
    "df1['victima_nacionalidad'] = df1['victima_nacionalidad'].replace(valores_a_reemplazar, 'Otra')"
   ]
  },
  {
   "cell_type": "markdown",
   "id": "b06b1a4a-6293-4a5f-bd2d-e733554471a9",
   "metadata": {},
   "source": [
    "<h2> victima_genero </h2>"
   ]
  },
  {
   "cell_type": "code",
   "execution_count": 29,
   "id": "7d1f15ec-aabf-4f65-9f42-3727be0bb053",
   "metadata": {},
   "outputs": [
    {
     "data": {
      "text/plain": [
       "Femenino     5556\n",
       "Masculino     621\n",
       "Trans          33\n",
       "Ns/Nc          10\n",
       "Name: victima_genero, dtype: int64"
      ]
     },
     "execution_count": 29,
     "metadata": {},
     "output_type": "execute_result"
    }
   ],
   "source": [
    "df1.victima_genero.value_counts()"
   ]
  },
  {
   "cell_type": "code",
   "execution_count": 28,
   "id": "72503675-2d44-49f9-81dd-9df7e9e2d92d",
   "metadata": {},
   "outputs": [],
   "source": [
    "# Realizar los reemplazos especificados\n",
    "reemplazos = {'Transgénero': 'Trans',\n",
    "}\n",
    "\n",
    "df1['victima_genero'] = df1['victima_genero'].replace(reemplazos)"
   ]
  },
  {
   "cell_type": "markdown",
   "id": "52216b6a-d768-4156-b242-a4e84c4123c4",
   "metadata": {},
   "source": [
    "<h2>victima_discapacidad</h2>"
   ]
  },
  {
   "cell_type": "code",
   "execution_count": 30,
   "id": "6f916da3-708e-4203-8fb6-5744e9a76d4e",
   "metadata": {},
   "outputs": [
    {
     "data": {
      "text/plain": [
       "NO       5055\n",
       "NS/NC     742\n",
       "SI        423\n",
       "Name: victima_discapacidad, dtype: int64"
      ]
     },
     "execution_count": 30,
     "metadata": {},
     "output_type": "execute_result"
    }
   ],
   "source": [
    "df1.victima_discapacidad.value_counts()"
   ]
  },
  {
   "cell_type": "markdown",
   "id": "eb8f8adb-9d0c-4d12-b200-1e6063f5d3e6",
   "metadata": {},
   "source": [
    "<h2>'victima_vinculo_agresor'</h2>"
   ]
  },
  {
   "cell_type": "code",
   "execution_count": 31,
   "id": "45048942-8b9c-40d3-80fd-4c4aac063728",
   "metadata": {},
   "outputs": [
    {
     "data": {
      "text/plain": [
       "Conocido no familiar (Amigo, vecino, entre otros)    1897\n",
       "Desconocido                                          1302\n",
       "Padrastro                                             492\n",
       "Padre                                                 485\n",
       "Tío                                                   298\n",
       "                                                     ... \n",
       "Desconocido| Ex pareja de la víctima                    1\n",
       "Hermana   | Otro pariente                               1\n",
       "Madre     | Tío                                         1\n",
       "Hermano   | Tío                                         1\n",
       "Ex pareja | Otro Familiar                               1\n",
       "Name: victima_vinculo_agresor, Length: 81, dtype: int64"
      ]
     },
     "execution_count": 31,
     "metadata": {},
     "output_type": "execute_result"
    }
   ],
   "source": [
    "df1.victima_vinculo_agresor.value_counts()"
   ]
  },
  {
   "cell_type": "code",
   "execution_count": 32,
   "id": "85f11fe1-8bdc-489a-8558-d1d6cee3ddf4",
   "metadata": {},
   "outputs": [
    {
     "data": {
      "text/plain": [
       "array(['Otro pariente', 'Desconocido',\n",
       "       'Conocido no familiar (Amigo, vecino, entre otros)', 'Sin dato',\n",
       "       'Padre', 'Padrastro', 'Ex pareja de la víctima',\n",
       "       'Pareja de la vícitma', 'NS/NC', 'Abuelo', 'Madrastra', 'Hermano',\n",
       "       'Tío', 'Madre', 'Hermana', 'Hermana ', 'Vecino',\n",
       "       'Conocido no familiar (Amigo, vecino, entre otros)| Pareja de la vícitma',\n",
       "       'Conocido no familiar (Amigo, vecino, entre otros)| Desconocido',\n",
       "       'Conocido no familiar (Amigo, vecino, entre otros)| Padre',\n",
       "       'Desconocido| Padre',\n",
       "       'Conocido no familiar (Amigo, vecino, entre otros)| NS/NC', nan,\n",
       "       'Madre     | Padrastro', 'Otro pariente| Padre',\n",
       "       'Hermano   | Padre', 'Otro pariente| Padrastro',\n",
       "       'Desconocido| Otro pariente',\n",
       "       'Conocido no familiar (Amigo, vecino, entre otros)| Otro pariente',\n",
       "       'Padre     | Tío', 'NS/NC| Pareja de la vícitma',\n",
       "       'Pareja de la víctima', 'Sin datos', 'Abuela',\n",
       "       'Otro pariente| Tío',\n",
       "       'Conocido no familiar (Amigo, vecino, entre otros)| Tío',\n",
       "       'Abuelo    | Otro pariente| Tío',\n",
       "       'Hermano   | Otro pariente| Padrastro', 'Padrastro | Tío',\n",
       "       'Abuelo    | NS/NC| Padre', 'Abuelo    | Tío',\n",
       "       'Ex pareja de la víctima| Tío',\n",
       "       'Conocido no familiar (Amigo, vecino, entre otros)| Padrastro',\n",
       "       'Desconocido| Ex pareja de la víctima', 'Desconocido| NS/NC',\n",
       "       'Hermana   | Otro pariente', 'Madre     | Tío', 'Hermano   | Tío',\n",
       "       'Otro familiar', 'Pareja ', 'Ex pareja', 'Hermano/a', 'Abuelo/a',\n",
       "       'Ex pareja ', 'Pareja', 'Madre| Padrastro', 'Padre | Tío',\n",
       "       'NS/NC| Otro familiar', 'Abuelo| Padre', 'Abuelo| Tío',\n",
       "       'Padre| Tío', 'Otro familiar| Tío', 'Otro familiar| Padrastro',\n",
       "       'Abuelo| Padre| Tío', 'Hermano| Otro familiar',\n",
       "       'Conocido no familiar (Amigo, vecino, entre otros)| Otro familiar',\n",
       "       'Conocido no familiar (Amigo, vecino, entre otros)| Pareja',\n",
       "       'Otro familiar| Pareja', 'Madre| Padre', 'Padrastro| Tío',\n",
       "       'Abuelo| Otro familiar',\n",
       "       'Padrastro| Conocido no familiar (Amigo, vecino, entre otros)',\n",
       "       'Abuelo| Otro pariente',\n",
       "       'Padre| Conocido no familiar (Amigo, vecino, entre otros)',\n",
       "       'Padrastro| Abuelo', 'Abuela| Abuelo| Padre',\n",
       "       'Desconocido| Desconocido', 'Ex pareja | Otro familiar',\n",
       "       'Madre | Padrastro| Padre', 'Familiar', 'abuelo',\n",
       "       'Ex pareja | Otro Familiar'], dtype=object)"
      ]
     },
     "execution_count": 32,
     "metadata": {},
     "output_type": "execute_result"
    }
   ],
   "source": [
    "df1.victima_vinculo_agresor.unique()"
   ]
  },
  {
   "cell_type": "code",
   "execution_count": 33,
   "id": "c75473fd-4f6d-44b6-b24c-df47a895d395",
   "metadata": {},
   "outputs": [
    {
     "name": "stderr",
     "output_type": "stream",
     "text": [
      "/tmp/ipykernel_9981/994203563.py:2: FutureWarning: In a future version of pandas all arguments of StringMethods.split except for the argument 'pat' will be keyword-only.\n",
      "  df1[['vinculo_agresor1', 'vinculo_agresor2']] = df1['victima_vinculo_agresor'].str.split('|', 1, expand=True)\n"
     ]
    }
   ],
   "source": [
    "# Dividir la columna 'victima_vinculo_agresor' en dos columnas basadas en el separador '|'\n",
    "df1[['vinculo_agresor1', 'vinculo_agresor2']] = df1['victima_vinculo_agresor'].str.split('|', 1, expand=True)"
   ]
  },
  {
   "cell_type": "code",
   "execution_count": 34,
   "id": "ce556a30-f96d-4c96-bf82-4e917a037e6f",
   "metadata": {},
   "outputs": [
    {
     "data": {
      "text/plain": [
       "Conocido no familiar (Amigo, vecino, entre otros)    1949\n",
       "Desconocido                                          1308\n",
       "Padrastro                                             495\n",
       "Padre                                                 489\n",
       "Tío                                                   298\n",
       "NS/NC                                                 287\n",
       "Otro familiar                                         240\n",
       "Otro pariente                                         237\n",
       "Ex pareja                                             144\n",
       "Hermano                                               124\n",
       "Abuelo                                                105\n",
       "Ex pareja de la víctima                               105\n",
       "Sin datos                                             102\n",
       "Pareja                                                 85\n",
       "Pareja de la vícitma                                   78\n",
       "Sin dato                                               27\n",
       "Ex pareja                                              23\n",
       "Pareja de la víctima                                   15\n",
       "Pareja                                                 14\n",
       "Madre                                                  11\n",
       "Abuelo/a                                               11\n",
       "Hermano/a                                               7\n",
       "Abuela                                                  7\n",
       "Hermana                                                 5\n",
       "Hermano                                                 4\n",
       "Abuelo                                                  3\n",
       "Madre                                                   3\n",
       "Madrastra                                               3\n",
       "Hermana                                                 1\n",
       "Padrastro                                               1\n",
       "Padre                                                   1\n",
       "Vecino                                                  1\n",
       "Hermana                                                 1\n",
       "Padre                                                   1\n",
       "Madre                                                   1\n",
       "Familiar                                                1\n",
       "abuelo                                                  1\n",
       "Name: vinculo_agresor1, dtype: int64"
      ]
     },
     "execution_count": 34,
     "metadata": {},
     "output_type": "execute_result"
    }
   ],
   "source": [
    "df1.vinculo_agresor1.value_counts()"
   ]
  },
  {
   "cell_type": "code",
   "execution_count": 35,
   "id": "dd8bd37c-77ba-4589-af84-86614805aba6",
   "metadata": {},
   "outputs": [
    {
     "data": {
      "text/plain": [
       "array(['Otro pariente', 'Desconocido',\n",
       "       'Conocido no familiar (Amigo, vecino, entre otros)', 'Sin dato',\n",
       "       'Padre', 'Padrastro', 'Ex pareja de la víctima',\n",
       "       'Pareja de la vícitma', 'NS/NC', 'Abuelo', 'Madrastra', 'Hermano',\n",
       "       'Tío', 'Madre', 'Hermana', 'Hermana ', 'Vecino', nan, 'Madre     ',\n",
       "       'Hermano   ', 'Padre     ', 'Pareja de la víctima', 'Sin datos',\n",
       "       'Abuela', 'Abuelo    ', 'Padrastro ', 'Hermana   ',\n",
       "       'Otro familiar', 'Pareja ', 'Ex pareja', 'Hermano/a', 'Abuelo/a',\n",
       "       'Ex pareja ', 'Pareja', 'Padre ', 'Madre ', 'Familiar', 'abuelo'],\n",
       "      dtype=object)"
      ]
     },
     "execution_count": 35,
     "metadata": {},
     "output_type": "execute_result"
    }
   ],
   "source": [
    "df1.vinculo_agresor1.unique()"
   ]
  },
  {
   "cell_type": "code",
   "execution_count": 40,
   "id": "c2c48d85-883d-442e-bb95-b250abe15623",
   "metadata": {},
   "outputs": [],
   "source": [
    "# Realizar los reemplazos especificados\n",
    "reemplazos = {\n",
    "    'Conocido no familiar (Amigo, vecino, entre otros)': 'Conocido no familiar',\n",
    "    'Hermana ': 'Hermana',\n",
    "    'Madre     ': 'Madre','Madre':'Madre','Madre ':'Madre',\n",
    "    'Hermano   ': 'Hermano/a','Hermana':'Hermano/a','Hermana   ':'Hermano/a','Hermano': 'Hermano/a',\n",
    "    'Padre     ': 'Padre',\n",
    "    np.nan: 'Sin datos','Sin dato':'Sin datos','NS/NC':'Sin datos',\n",
    "    'Pareja de la vícitma':'Pareja de la víctima',\n",
    "    'Vecino':'Conocido no familiar',\n",
    "    'Ex pareja de la víctima':'Ex pareja','Ex pareja ':'Ex pareja',\n",
    "    'Pareja de la víctima':'Pareja','Abuelo':'Abuelo/a' ,'Abuelo    ':'Abuelo/a' ,'abuelo':'Abuelo/a',\n",
    "    'Padrastro ':'Padrastro','Otro pariente':'Otro familiar','Familiar':'Otro familiar',\n",
    "    'Pareja ':'Pareja', 'Padre ':'Padre','Abuela':'Abuelo/a',\n",
    "}\n",
    "\n",
    "df1['vinculo_agresor1'] = df1['vinculo_agresor1'].replace(reemplazos)"
   ]
  },
  {
   "cell_type": "code",
   "execution_count": 41,
   "id": "7bbbe391-d1cf-4de6-8fa2-c9e04dd0bb3b",
   "metadata": {},
   "outputs": [
    {
     "name": "stdout",
     "output_type": "stream",
     "text": [
      "['Sin datos' 'Pareja' 'Desconocido' 'Padre' 'Padrastro' 'Otro familiar'\n",
      " 'Tío' 'Ex pareja' 'Conocido no familiar' 'Abuelo' 'Otro Familiar']\n",
      "========================================================================\n",
      "Sin datos               6108\n",
      "Desconocido               29\n",
      "Tío                       27\n",
      "Padre                     17\n",
      "Otro familiar             16\n",
      "Padrastro                 12\n",
      "Pareja                     6\n",
      "Conocido no familiar       2\n",
      "Ex pareja                  1\n",
      "Abuelo                     1\n",
      "Otro Familiar              1\n",
      "Name: vinculo_agresor2, dtype: int64\n"
     ]
    }
   ],
   "source": [
    "print(df1.vinculo_agresor2.unique())\n",
    "print('========================================================================')\n",
    "print(df1.vinculo_agresor2.value_counts())"
   ]
  },
  {
   "cell_type": "code",
   "execution_count": 42,
   "id": "116eff9b-bbfc-4888-8574-84e19c44f5e8",
   "metadata": {},
   "outputs": [],
   "source": [
    "# Realizar los reemplazos especificados\n",
    "reemplazos = {\n",
    "    np.nan: 'Sin datos','Sin dato':'Sin datos',\n",
    "    'Pareja de la vícitma':'Pareja',' Pareja de la vícitma':'Pareja',' Padre':'Padre',\n",
    "    ' NS/NC':'Sin datos',\n",
    "    'Pareja de la víctima':'Pareja',' Pareja':'Pareja',\n",
    "    'Otro pariente| Padrastro':'Otro familiar' ,                             \n",
    " 'Otro pariente| Tío':'Otro familiar',                                    \n",
    " 'Otro Familiar':'Otro familiar',' Otro pariente':'Otro familiar',' Padre| Tío':'Padre',' Desconocido':'Desconocido',\n",
    "    ' Padrastro':'Padrastro',\n",
    "     ' Tío':'Tío',\n",
    "    ' Otro pariente| Tío':'Tío',\n",
    "' Otro pariente| Padrastro':'Padrastro',\n",
    "    ' NS/NC| Padre':'Padre',\n",
    "' Ex pareja de la víctima':'Ex pareja',\n",
    "    ' Otro familiar':'Otro familiar',\n",
    " ' Conocido no familiar (Amigo, vecino, entre otros)':'Conocido no familiar',\n",
    "    ' Abuelo':'Abuelo',\n",
    "' Abuelo| Padre':'Padre',\n",
    "    ' Padrastro| Padre':'Padre', \n",
    "' Otro Familiar':'Otro Familiar','Otro Familiar':'Otro familiar','Abuelo':'Abuelo/a',\n",
    "}\n",
    "\n",
    "df1['vinculo_agresor2'] = df1['vinculo_agresor2'].replace(reemplazos)"
   ]
  },
  {
   "cell_type": "code",
   "execution_count": 43,
   "id": "6e12e358-6aec-4a00-aab4-c9a8d6bbeb16",
   "metadata": {},
   "outputs": [
    {
     "data": {
      "text/plain": [
       "Conocido no familiar    1950\n",
       "Desconocido             1308\n",
       "Padrastro                496\n",
       "Padre                    491\n",
       "Otro familiar            478\n",
       "Sin datos                448\n",
       "Tío                      298\n",
       "Ex pareja                272\n",
       "Pareja                   192\n",
       "Hermano/a                142\n",
       "Abuelo/a                 127\n",
       "Madre                     15\n",
       "Madrastra                  3\n",
       "Name: vinculo_agresor1, dtype: int64"
      ]
     },
     "execution_count": 43,
     "metadata": {},
     "output_type": "execute_result"
    }
   ],
   "source": [
    "df1.vinculo_agresor1.value_counts()"
   ]
  },
  {
   "cell_type": "code",
   "execution_count": 44,
   "id": "9639e813-70bf-4efa-b9dd-f7071d82dd0b",
   "metadata": {},
   "outputs": [
    {
     "data": {
      "text/plain": [
       "Sin datos               6108\n",
       "Desconocido               29\n",
       "Tío                       27\n",
       "Padre                     17\n",
       "Otro familiar             17\n",
       "Padrastro                 12\n",
       "Pareja                     6\n",
       "Conocido no familiar       2\n",
       "Ex pareja                  1\n",
       "Abuelo/a                   1\n",
       "Name: vinculo_agresor2, dtype: int64"
      ]
     },
     "execution_count": 44,
     "metadata": {},
     "output_type": "execute_result"
    }
   ],
   "source": [
    "df1.vinculo_agresor2.value_counts()"
   ]
  },
  {
   "cell_type": "markdown",
   "id": "428d1821-6a02-4b6b-b7dc-bec58297a45d",
   "metadata": {},
   "source": [
    "<h2>vs_violacion_via_vaginal</h2>"
   ]
  },
  {
   "cell_type": "code",
   "execution_count": 45,
   "id": "8c401035-cef8-469d-bb52-a8e17a0eba7a",
   "metadata": {},
   "outputs": [
    {
     "data": {
      "text/plain": [
       "NO    4269\n",
       "SI    1951\n",
       "Name: vs_violacion_via_vaginal, dtype: int64"
      ]
     },
     "execution_count": 45,
     "metadata": {},
     "output_type": "execute_result"
    }
   ],
   "source": [
    "df1.vs_violacion_via_vaginal.value_counts()"
   ]
  },
  {
   "cell_type": "markdown",
   "id": "bdff18d2-d9c3-42f1-9121-67e536b9e3f1",
   "metadata": {},
   "source": [
    "<h2>vs_violacion_via_anal</h2>"
   ]
  },
  {
   "cell_type": "code",
   "execution_count": 46,
   "id": "4432eed3-8387-4cf8-9594-829bfa22a0e9",
   "metadata": {},
   "outputs": [
    {
     "data": {
      "text/plain": [
       "NO    5611\n",
       "SI     609\n",
       "Name: vs_violacion_via_anal, dtype: int64"
      ]
     },
     "execution_count": 46,
     "metadata": {},
     "output_type": "execute_result"
    }
   ],
   "source": [
    "df1.vs_violacion_via_anal.value_counts()"
   ]
  },
  {
   "cell_type": "markdown",
   "id": "cb848cec-5ee8-4057-92f7-16d434962e64",
   "metadata": {},
   "source": [
    "<h2>vs_violacion_via_oral </h2>"
   ]
  },
  {
   "cell_type": "code",
   "execution_count": 47,
   "id": "b3feb0d1-0ea5-4227-812d-acce5189c054",
   "metadata": {},
   "outputs": [
    {
     "data": {
      "text/plain": [
       "NO    5798\n",
       "SI     422\n",
       "Name: vs_violacion_via_oral, dtype: int64"
      ]
     },
     "execution_count": 47,
     "metadata": {},
     "output_type": "execute_result"
    }
   ],
   "source": [
    "df1.vs_violacion_via_oral.value_counts()"
   ]
  },
  {
   "cell_type": "markdown",
   "id": "69aadd56-a0ec-4de5-b184-662312cc45cf",
   "metadata": {},
   "source": [
    "<h2>vs_tentativa_violacion</h2>"
   ]
  },
  {
   "cell_type": "code",
   "execution_count": 48,
   "id": "ca12e6be-5a77-4823-8bcd-2a1c01cd9c87",
   "metadata": {},
   "outputs": [
    {
     "data": {
      "text/plain": [
       "NO    6002\n",
       "SI     218\n",
       "Name: vs_tentativa_violacion, dtype: int64"
      ]
     },
     "execution_count": 48,
     "metadata": {},
     "output_type": "execute_result"
    }
   ],
   "source": [
    "df1.vs_tentativa_violacion.value_counts()"
   ]
  },
  {
   "cell_type": "markdown",
   "id": "fd6edeb2-c336-4aec-9c02-7552ade9e6aa",
   "metadata": {},
   "source": [
    "<h2>vs_tocamiento_sexual</h2>"
   ]
  },
  {
   "cell_type": "code",
   "execution_count": 49,
   "id": "81d9e312-e57e-4296-a093-4dc1aef5503e",
   "metadata": {},
   "outputs": [
    {
     "data": {
      "text/plain": [
       "SI    3554\n",
       "NO    2666\n",
       "Name: vs_tocamiento_sexual, dtype: int64"
      ]
     },
     "execution_count": 49,
     "metadata": {},
     "output_type": "execute_result"
    }
   ],
   "source": [
    "df1.vs_tocamiento_sexual.value_counts()"
   ]
  },
  {
   "cell_type": "markdown",
   "id": "5df21b43-4bee-4541-9e4a-5a7a80d2ccad",
   "metadata": {},
   "source": [
    "<h2>vs_intento_tocamiento</h2>"
   ]
  },
  {
   "cell_type": "code",
   "execution_count": 50,
   "id": "e11ef985-9939-44db-a541-2c7c5a403ab5",
   "metadata": {},
   "outputs": [
    {
     "data": {
      "text/plain": [
       "NO    5919\n",
       "SI     301\n",
       "Name: vs_intento_tocamiento, dtype: int64"
      ]
     },
     "execution_count": 50,
     "metadata": {},
     "output_type": "execute_result"
    }
   ],
   "source": [
    "df1.vs_intento_tocamiento.value_counts()"
   ]
  },
  {
   "cell_type": "markdown",
   "id": "154e3fc9-c319-4278-97af-1ad86f44a185",
   "metadata": {},
   "source": [
    "<h2>vs_Intento_violación_tercera_persona</h2>"
   ]
  },
  {
   "cell_type": "code",
   "execution_count": 51,
   "id": "6a35b1c6-9927-4878-84a0-dd7d250c278d",
   "metadata": {},
   "outputs": [
    {
     "data": {
      "text/plain": [
       "NO    6198\n",
       "SI      22\n",
       "Name: vs_Intento_violación_tercera_persona, dtype: int64"
      ]
     },
     "execution_count": 51,
     "metadata": {},
     "output_type": "execute_result"
    }
   ],
   "source": [
    "df1.vs_Intento_violación_tercera_persona.value_counts()"
   ]
  },
  {
   "cell_type": "markdown",
   "id": "829d5f91-c597-4e4c-a869-a617c79b4814",
   "metadata": {},
   "source": [
    "<h2>vs_grooming</h2>"
   ]
  },
  {
   "cell_type": "code",
   "execution_count": 52,
   "id": "7f0903ea-960e-45d3-a58b-d83f09ea5906",
   "metadata": {},
   "outputs": [
    {
     "data": {
      "text/plain": [
       "NO    5275\n",
       "SI      30\n",
       "Name: vs_grooming, dtype: int64"
      ]
     },
     "execution_count": 52,
     "metadata": {},
     "output_type": "execute_result"
    }
   ],
   "source": [
    "df1.vs_grooming.value_counts()"
   ]
  },
  {
   "cell_type": "markdown",
   "id": "ab90a676-bc13-4380-9e83-fe0ac1341a3f",
   "metadata": {},
   "source": [
    "<h2>'vs_exhibicionismo'</h2>"
   ]
  },
  {
   "cell_type": "code",
   "execution_count": 53,
   "id": "0c8bf38d-1086-4e8c-9c27-870de9752d6a",
   "metadata": {},
   "outputs": [
    {
     "data": {
      "text/plain": [
       "NO    6084\n",
       "SI     136\n",
       "Name: vs_exhibicionismo, dtype: int64"
      ]
     },
     "execution_count": 53,
     "metadata": {},
     "output_type": "execute_result"
    }
   ],
   "source": [
    "df1.vs_exhibicionismo.value_counts()"
   ]
  },
  {
   "cell_type": "markdown",
   "id": "f520a7a4-69dc-49fc-95c7-1613f42531e1",
   "metadata": {},
   "source": [
    "<h2>vs_amenazas_verbales_contenido_sexual</h2>"
   ]
  },
  {
   "cell_type": "code",
   "execution_count": 54,
   "id": "87995869-fbdf-4882-a1da-3bfd8caf5df0",
   "metadata": {},
   "outputs": [
    {
     "data": {
      "text/plain": [
       "NO    6114\n",
       "SI     106\n",
       "Name: vs_amenazas_verbales_contenido_sexual, dtype: int64"
      ]
     },
     "execution_count": 54,
     "metadata": {},
     "output_type": "execute_result"
    }
   ],
   "source": [
    "df1.vs_amenazas_verbales_contenido_sexual.value_counts()"
   ]
  },
  {
   "cell_type": "markdown",
   "id": "b078de27-6cbf-4d9b-8cda-1fd985808035",
   "metadata": {},
   "source": [
    "<h2>vs_explotacion_sexual</h2>"
   ]
  },
  {
   "cell_type": "code",
   "execution_count": 55,
   "id": "b913acdc-8e63-44bc-8be1-7a4cca62f9ea",
   "metadata": {},
   "outputs": [
    {
     "data": {
      "text/plain": [
       "NO    6206\n",
       "SI      14\n",
       "Name: vs_explotacion_sexual, dtype: int64"
      ]
     },
     "execution_count": 55,
     "metadata": {},
     "output_type": "execute_result"
    }
   ],
   "source": [
    "df1.vs_explotacion_sexual.value_counts()"
   ]
  },
  {
   "cell_type": "markdown",
   "id": "dc2a182d-b1b1-4701-99e9-568f5be65852",
   "metadata": {},
   "source": [
    "<h2>vs_explotacion_sexual_comercia</h2>"
   ]
  },
  {
   "cell_type": "code",
   "execution_count": 56,
   "id": "463e45a2-5173-4b28-92d9-5f68fe3137c9",
   "metadata": {},
   "outputs": [
    {
     "data": {
      "text/plain": [
       "NO    6207\n",
       "SI      13\n",
       "Name: vs_explotacion_sexual_comercial, dtype: int64"
      ]
     },
     "execution_count": 56,
     "metadata": {},
     "output_type": "execute_result"
    }
   ],
   "source": [
    "df1.vs_explotacion_sexual_comercial.value_counts()"
   ]
  },
  {
   "cell_type": "markdown",
   "id": "a724d14a-f1ca-45f9-aa6b-a9dcf21324a8",
   "metadata": {},
   "source": [
    "<h2>vs_explotacion_sexual_viajes_turismo</h2>"
   ]
  },
  {
   "cell_type": "code",
   "execution_count": 57,
   "id": "68a947b1-f9ac-489e-8a5d-3b5e4ff1ba35",
   "metadata": {},
   "outputs": [
    {
     "data": {
      "text/plain": [
       "NO    6219\n",
       "SI       1\n",
       "Name: vs_explotacion_sexual_viajes_turismo, dtype: int64"
      ]
     },
     "execution_count": 57,
     "metadata": {},
     "output_type": "execute_result"
    }
   ],
   "source": [
    "df1.vs_explotacion_sexual_viajes_turismo.value_counts()"
   ]
  },
  {
   "cell_type": "markdown",
   "id": "1711d4f0-9969-4a41-8901-d6a933c9ad42",
   "metadata": {},
   "source": [
    "<h2>'vs_sospecha_trata_personas_fines_sexuales'</h2>"
   ]
  },
  {
   "cell_type": "code",
   "execution_count": 58,
   "id": "e5d0660c-5af9-4b37-8a75-1b88aca2d2d9",
   "metadata": {},
   "outputs": [
    {
     "data": {
      "text/plain": [
       "NO    6205\n",
       "SI      15\n",
       "Name: vs_sospecha_trata_personas_fines_sexuales, dtype: int64"
      ]
     },
     "execution_count": 58,
     "metadata": {},
     "output_type": "execute_result"
    }
   ],
   "source": [
    "df1.vs_sospecha_trata_personas_fines_sexuales.value_counts()"
   ]
  },
  {
   "cell_type": "markdown",
   "id": "97ff491a-1384-4a96-b6e7-65a7b7c2b237",
   "metadata": {},
   "source": [
    "<h2>vs_existencia_facilitador_corrupcion_nnya</h2>"
   ]
  },
  {
   "cell_type": "code",
   "execution_count": 59,
   "id": "e8af6ec5-c0f2-45cd-a6ba-5c1675170b0e",
   "metadata": {},
   "outputs": [
    {
     "data": {
      "text/plain": [
       "NO    6217\n",
       "SI       3\n",
       "Name: vs_existencia_facilitador_corrupcion_nnya, dtype: int64"
      ]
     },
     "execution_count": 59,
     "metadata": {},
     "output_type": "execute_result"
    }
   ],
   "source": [
    "df1.vs_existencia_facilitador_corrupcion_nnya.value_counts()"
   ]
  },
  {
   "cell_type": "markdown",
   "id": "66440182-8f06-4065-a3da-7665974326f8",
   "metadata": {},
   "source": [
    "<h2>vs_obligacion_sacarse_fotos_pornograficas</h2>"
   ]
  },
  {
   "cell_type": "code",
   "execution_count": 60,
   "id": "1312bf2f-203e-4507-ac3c-c0391491eb32",
   "metadata": {},
   "outputs": [
    {
     "data": {
      "text/plain": [
       "NO    6175\n",
       "SI      45\n",
       "Name: vs_obligacion_sacarse_fotos_pornograficas, dtype: int64"
      ]
     },
     "execution_count": 60,
     "metadata": {},
     "output_type": "execute_result"
    }
   ],
   "source": [
    "df1.vs_obligacion_sacarse_fotos_pornograficas.value_counts()"
   ]
  },
  {
   "cell_type": "markdown",
   "id": "21465277-7b7a-47ba-b6ea-10475380c2ef",
   "metadata": {},
   "source": [
    "<h2>vs_eyaculacion_partes_cuerpo</h2>"
   ]
  },
  {
   "cell_type": "code",
   "execution_count": 61,
   "id": "074e6531-90fe-4275-aeb7-4bd19c26cbd7",
   "metadata": {},
   "outputs": [
    {
     "data": {
      "text/plain": [
       "NO    6143\n",
       "SI      77\n",
       "Name: vs_eyaculacion_partes_cuerpo, dtype: int64"
      ]
     },
     "execution_count": 61,
     "metadata": {},
     "output_type": "execute_result"
    }
   ],
   "source": [
    "df1.vs_eyaculacion_partes_cuerpo.value_counts()"
   ]
  },
  {
   "cell_type": "markdown",
   "id": "d446379f-ad49-4148-8f29-5c7434cbc75b",
   "metadata": {},
   "source": [
    "<h2>vs_acoso_sexual</h2>"
   ]
  },
  {
   "cell_type": "code",
   "execution_count": 62,
   "id": "eafb3814-0750-4761-87ac-16139690f817",
   "metadata": {},
   "outputs": [
    {
     "data": {
      "text/plain": [
       "NO    6059\n",
       "SI     161\n",
       "Name: vs_acoso_sexual, dtype: int64"
      ]
     },
     "execution_count": 62,
     "metadata": {},
     "output_type": "execute_result"
    }
   ],
   "source": [
    "df1.vs_acoso_sexual.value_counts()"
   ]
  },
  {
   "cell_type": "markdown",
   "id": "bfd547cd-fadb-4036-94f5-248d1e4e8512",
   "metadata": {},
   "source": [
    "<h2>vs_iniciacion_sexual_forzada_inducida</h2>"
   ]
  },
  {
   "cell_type": "code",
   "execution_count": 63,
   "id": "b2f36957-c079-4cbc-ad6f-9234353610fc",
   "metadata": {},
   "outputs": [
    {
     "data": {
      "text/plain": [
       "NO    6081\n",
       "SI     139\n",
       "Name: vs_iniciacion_sexual_forzada_inducida, dtype: int64"
      ]
     },
     "execution_count": 63,
     "metadata": {},
     "output_type": "execute_result"
    }
   ],
   "source": [
    "df1.vs_iniciacion_sexual_forzada_inducida.value_counts()"
   ]
  },
  {
   "cell_type": "markdown",
   "id": "15b13afb-27f9-4c1d-a025-1d0e5c0134b5",
   "metadata": {},
   "source": [
    "<h2>vs_otra_forma_violencia_sexual</h2>"
   ]
  },
  {
   "cell_type": "code",
   "execution_count": 64,
   "id": "211ba926-ee97-401e-82f5-dec9500d76eb",
   "metadata": {},
   "outputs": [
    {
     "data": {
      "text/plain": [
       "NO    5809\n",
       "SI     411\n",
       "Name: vs_otra_forma_violencia_sexual, dtype: int64"
      ]
     },
     "execution_count": 64,
     "metadata": {},
     "output_type": "execute_result"
    }
   ],
   "source": [
    "df1.vs_otra_forma_violencia_sexual.value_counts()"
   ]
  },
  {
   "cell_type": "markdown",
   "id": "36c8b634-cf74-4447-abb0-d488acc46317",
   "metadata": {},
   "source": [
    "<h2>vs_no_sabe_no_contesta</h2>"
   ]
  },
  {
   "cell_type": "code",
   "execution_count": 65,
   "id": "6aa71706-b82e-43eb-9b2d-18ec1917a926",
   "metadata": {},
   "outputs": [
    {
     "data": {
      "text/plain": [
       "NO    5447\n",
       "SI     773\n",
       "Name: vs_no_sabe_no_contesta, dtype: int64"
      ]
     },
     "execution_count": 65,
     "metadata": {},
     "output_type": "execute_result"
    }
   ],
   "source": [
    "df1.vs_no_sabe_no_contesta.value_counts()"
   ]
  },
  {
   "cell_type": "markdown",
   "id": "25e3be31-ab10-4ba3-ba77-00d399509369",
   "metadata": {},
   "source": [
    "<h2>vs_violencia_digital</h2>"
   ]
  },
  {
   "cell_type": "code",
   "execution_count": 66,
   "id": "82e29a24-e872-4ab6-a439-c284487f040b",
   "metadata": {},
   "outputs": [
    {
     "data": {
      "text/plain": [
       "NO    911\n",
       "SI      4\n",
       "Name: vs_violencia_digital, dtype: int64"
      ]
     },
     "execution_count": 66,
     "metadata": {},
     "output_type": "execute_result"
    }
   ],
   "source": [
    "df1.vs_violencia_digital.value_counts()"
   ]
  },
  {
   "cell_type": "code",
   "execution_count": 67,
   "id": "d7d6b6a0-4fa3-41c6-8f08-4b1dd39f9b42",
   "metadata": {},
   "outputs": [],
   "source": [
    "# Realizar los reemplazos especificados\n",
    "reemplazos = {\n",
    "    np.nan: 'Sin datos',\n",
    "}\n",
    "\n",
    "df1['vs_violencia_digital'] = df1['vs_violencia_digital'].replace(reemplazos)"
   ]
  },
  {
   "cell_type": "markdown",
   "id": "12239303-f6ef-4e41-962d-7adb8b9c481a",
   "metadata": {},
   "source": [
    "<h2>ofv_sentimiento_amenaza </h2>"
   ]
  },
  {
   "cell_type": "code",
   "execution_count": 68,
   "id": "03250334-2e1f-4d6c-bd3f-3716f245489d",
   "metadata": {},
   "outputs": [
    {
     "data": {
      "text/plain": [
       "SI    3258\n",
       "NO    2962\n",
       "Name: ofv_sentimiento_amenaza, dtype: int64"
      ]
     },
     "execution_count": 68,
     "metadata": {},
     "output_type": "execute_result"
    }
   ],
   "source": [
    "df1.ofv_sentimiento_amenaza.value_counts()"
   ]
  },
  {
   "cell_type": "markdown",
   "id": "24b31105-f609-4aee-abb0-28b751d309f1",
   "metadata": {},
   "source": [
    "<h2>ofv_amenaza_explicita</h2>"
   ]
  },
  {
   "cell_type": "code",
   "execution_count": 69,
   "id": "6261a543-086c-4d8f-9ea6-8d238b7c8d93",
   "metadata": {},
   "outputs": [
    {
     "data": {
      "text/plain": [
       "NO    4834\n",
       "SI    1386\n",
       "Name: ofv_amenaza_explicita, dtype: int64"
      ]
     },
     "execution_count": 69,
     "metadata": {},
     "output_type": "execute_result"
    }
   ],
   "source": [
    "df1.ofv_amenaza_explicita.value_counts()"
   ]
  },
  {
   "cell_type": "markdown",
   "id": "13a36988-f641-4645-aea0-0abc3ca2b82d",
   "metadata": {},
   "source": [
    "<h2>ofv_violencia_fisica</h2>"
   ]
  },
  {
   "cell_type": "code",
   "execution_count": 70,
   "id": "44fac021-fae2-4499-89af-c541f7c6749d",
   "metadata": {},
   "outputs": [
    {
     "data": {
      "text/plain": [
       "NO    5250\n",
       "SI     970\n",
       "Name: ofv_violencia_fisica, dtype: int64"
      ]
     },
     "execution_count": 70,
     "metadata": {},
     "output_type": "execute_result"
    }
   ],
   "source": [
    "df1.ofv_violencia_fisica.value_counts()"
   ]
  },
  {
   "cell_type": "markdown",
   "id": "60146512-38dc-41ed-8da4-ccda1d5b5a19",
   "metadata": {},
   "source": [
    "<h2>ofv_intento_ahorcar</h2>"
   ]
  },
  {
   "cell_type": "code",
   "execution_count": 71,
   "id": "7a43e37e-2aa4-4041-84f1-6a7345a99585",
   "metadata": {},
   "outputs": [
    {
     "data": {
      "text/plain": [
       "NO    6101\n",
       "SI     119\n",
       "Name: ofv_intento_ahorcar, dtype: int64"
      ]
     },
     "execution_count": 71,
     "metadata": {},
     "output_type": "execute_result"
    }
   ],
   "source": [
    "df1.ofv_intento_ahorcar.value_counts()"
   ]
  },
  {
   "cell_type": "markdown",
   "id": "83558d64-ce63-44ca-afbc-97200307d3d3",
   "metadata": {},
   "source": [
    "<h2>ofv_amenaza_muerte</h2>"
   ]
  },
  {
   "cell_type": "code",
   "execution_count": 72,
   "id": "6e26566a-002a-4ff3-91f0-40599df11115",
   "metadata": {},
   "outputs": [
    {
     "data": {
      "text/plain": [
       "NO    6058\n",
       "SI     162\n",
       "Name: ofv_amenaza_muerte, dtype: int64"
      ]
     },
     "execution_count": 72,
     "metadata": {},
     "output_type": "execute_result"
    }
   ],
   "source": [
    "df1.ofv_amenaza_muerte.value_counts()"
   ]
  },
  {
   "cell_type": "markdown",
   "id": "8e40926d-dec2-4650-9c9a-220fe686125d",
   "metadata": {},
   "source": [
    "<h2>ofv_uso_sustancias_psicoactivas</h2>"
   ]
  },
  {
   "cell_type": "code",
   "execution_count": 73,
   "id": "f492895c-7263-468d-8d60-e997ce7909cc",
   "metadata": {},
   "outputs": [
    {
     "data": {
      "text/plain": [
       "NO    5945\n",
       "SI     275\n",
       "Name: ofv_uso_sustancias_psicoactivas, dtype: int64"
      ]
     },
     "execution_count": 73,
     "metadata": {},
     "output_type": "execute_result"
    }
   ],
   "source": [
    "df1.ofv_uso_sustancias_psicoactivas.value_counts()"
   ]
  },
  {
   "cell_type": "markdown",
   "id": "017bf4ce-b134-40b6-9a67-2a84fea6ee20",
   "metadata": {},
   "source": [
    "<h2>ofv_intento_privacion_libertad</h2>"
   ]
  },
  {
   "cell_type": "code",
   "execution_count": 74,
   "id": "50796bc4-bd97-48bd-8f04-f96889d48208",
   "metadata": {},
   "outputs": [
    {
     "data": {
      "text/plain": [
       "NO    6171\n",
       "SI      49\n",
       "Name: ofv_intento_privacion_libertad, dtype: int64"
      ]
     },
     "execution_count": 74,
     "metadata": {},
     "output_type": "execute_result"
    }
   ],
   "source": [
    "df1.ofv_intento_privacion_libertad.value_counts()"
   ]
  },
  {
   "cell_type": "markdown",
   "id": "20276a60-a89f-4cab-9864-a3fa78904f5d",
   "metadata": {},
   "source": [
    "<h2>ofv_uso_arma_blanca</h2>"
   ]
  },
  {
   "cell_type": "code",
   "execution_count": 75,
   "id": "fdc2dec4-d25e-4ce1-9fcc-9132b9dfda42",
   "metadata": {},
   "outputs": [
    {
     "data": {
      "text/plain": [
       "NO    6097\n",
       "SI     123\n",
       "Name: ofv_uso_arma_blanca, dtype: int64"
      ]
     },
     "execution_count": 75,
     "metadata": {},
     "output_type": "execute_result"
    }
   ],
   "source": [
    "df1.ofv_uso_arma_blanca.value_counts()"
   ]
  },
  {
   "cell_type": "markdown",
   "id": "40fe473b-7f0d-4108-b08b-0c2ce91193ec",
   "metadata": {},
   "source": [
    "<h2>ofv_uso_arma_fuego</h2>"
   ]
  },
  {
   "cell_type": "code",
   "execution_count": 76,
   "id": "8e810103-5cc6-42cb-a5ad-7e84b9831861",
   "metadata": {},
   "outputs": [
    {
     "data": {
      "text/plain": [
       "NO    6163\n",
       "SI      57\n",
       "Name: ofv_uso_arma_fuego, dtype: int64"
      ]
     },
     "execution_count": 76,
     "metadata": {},
     "output_type": "execute_result"
    }
   ],
   "source": [
    "df1.ofv_uso_arma_fuego.value_counts()"
   ]
  },
  {
   "cell_type": "markdown",
   "id": "62076415-7fde-46c3-845f-ed12357d69be",
   "metadata": {},
   "source": [
    "<h2>ofv_enganio_seduccion</h2>"
   ]
  },
  {
   "cell_type": "code",
   "execution_count": 77,
   "id": "09af67b5-043f-412f-a3c2-010927dbc15e",
   "metadata": {},
   "outputs": [
    {
     "data": {
      "text/plain": [
       "NO    5924\n",
       "SI     296\n",
       "Name: ofv_enganio_seduccion, dtype: int64"
      ]
     },
     "execution_count": 77,
     "metadata": {},
     "output_type": "execute_result"
    }
   ],
   "source": [
    "df1.ofv_enganio_seduccion.value_counts()"
   ]
  },
  {
   "cell_type": "markdown",
   "id": "75f31c6d-5ad9-4232-9ee4-648b7949614a",
   "metadata": {},
   "source": [
    "<h2>ofv_intento_matar</h2>"
   ]
  },
  {
   "cell_type": "code",
   "execution_count": 78,
   "id": "7e31a4f5-b645-4b8d-b5b4-24f563e3a831",
   "metadata": {},
   "outputs": [
    {
     "data": {
      "text/plain": [
       "NO    6212\n",
       "SI       8\n",
       "Name: ofv_intento_matar, dtype: int64"
      ]
     },
     "execution_count": 78,
     "metadata": {},
     "output_type": "execute_result"
    }
   ],
   "source": [
    "df1.ofv_intento_matar.value_counts()"
   ]
  },
  {
   "cell_type": "markdown",
   "id": "56fcef2a-32f1-4e02-a267-b17fcf8c5fda",
   "metadata": {},
   "source": [
    "<h2>ofv_uso_animal_victimizar</h2>"
   ]
  },
  {
   "cell_type": "code",
   "execution_count": 79,
   "id": "02165d92-451d-498a-8f17-e200759069ae",
   "metadata": {},
   "outputs": [
    {
     "data": {
      "text/plain": [
       "NO    6218\n",
       "SI       2\n",
       "Name: ofv_uso_animal_victimizar, dtype: int64"
      ]
     },
     "execution_count": 79,
     "metadata": {},
     "output_type": "execute_result"
    }
   ],
   "source": [
    "df1.ofv_uso_animal_victimizar.value_counts()"
   ]
  },
  {
   "cell_type": "markdown",
   "id": "c6efe4dd-14bd-4aa5-8635-4197fe204f68",
   "metadata": {},
   "source": [
    "<h2>ofv_grooming</h2>"
   ]
  },
  {
   "cell_type": "code",
   "execution_count": 80,
   "id": "f64fc0f5-96e8-45a2-9413-ed4ea853bb6b",
   "metadata": {},
   "outputs": [
    {
     "data": {
      "text/plain": [
       "NO    5292\n",
       "SI      13\n",
       "Name: ofv_grooming, dtype: int64"
      ]
     },
     "execution_count": 80,
     "metadata": {},
     "output_type": "execute_result"
    }
   ],
   "source": [
    "df1.ofv_grooming.value_counts()"
   ]
  },
  {
   "cell_type": "markdown",
   "id": "e79e1bae-375e-44d2-af7d-e005bb3a32c8",
   "metadata": {},
   "source": [
    "<h2>ofv_otra_forma_violencia</h2>"
   ]
  },
  {
   "cell_type": "code",
   "execution_count": 81,
   "id": "da033144-39a9-453a-a0ca-c2f997d806da",
   "metadata": {},
   "outputs": [
    {
     "data": {
      "text/plain": [
       "NO    5828\n",
       "SI     392\n",
       "Name: ofv_otra_forma_violencia, dtype: int64"
      ]
     },
     "execution_count": 81,
     "metadata": {},
     "output_type": "execute_result"
    }
   ],
   "source": [
    "df1.ofv_otra_forma_violencia.value_counts()"
   ]
  },
  {
   "cell_type": "markdown",
   "id": "aaaf2894-25e2-4eed-ab93-5b03e81c9f14",
   "metadata": {},
   "source": [
    "<h2>ofv_no_sabe_no_contesta</h2>"
   ]
  },
  {
   "cell_type": "code",
   "execution_count": 84,
   "id": "9c13c722-61dd-435d-9254-84f457378d2d",
   "metadata": {},
   "outputs": [
    {
     "data": {
      "text/plain": [
       "NO    4727\n",
       "SI    1493\n",
       "Name: ofv_no_sabe_no_contesta, dtype: int64"
      ]
     },
     "execution_count": 84,
     "metadata": {},
     "output_type": "execute_result"
    }
   ],
   "source": [
    "df1.ofv_no_sabe_no_contesta.value_counts()"
   ]
  },
  {
   "cell_type": "code",
   "execution_count": 83,
   "id": "29727699-55dd-432b-9f5c-0b008c2782db",
   "metadata": {},
   "outputs": [],
   "source": [
    "# Realizar los reemplazos especificados\n",
    "reemplazos = {\n",
    "    'NO?':'NO'\n",
    "}\n",
    "\n",
    "df1['ofv_no_sabe_no_contesta'] = df1['ofv_no_sabe_no_contesta'].replace(reemplazos)"
   ]
  },
  {
   "cell_type": "markdown",
   "id": "77974a84-5628-4954-afc2-7497ebbf9547",
   "metadata": {},
   "source": [
    "<h2>'ofv_extorsion_redes_sociales'</h2>"
   ]
  },
  {
   "cell_type": "code",
   "execution_count": 85,
   "id": "1eb1bca5-45b2-4f07-baf1-3997bb4dfe59",
   "metadata": {},
   "outputs": [
    {
     "data": {
      "text/plain": [
       "NO    914\n",
       "SI      1\n",
       "Name: ofv_extorsion_redes_sociales, dtype: int64"
      ]
     },
     "execution_count": 85,
     "metadata": {},
     "output_type": "execute_result"
    }
   ],
   "source": [
    "df1.ofv_extorsion_redes_sociales.value_counts()"
   ]
  },
  {
   "cell_type": "code",
   "execution_count": 86,
   "id": "6ab985db-85d0-43fe-8624-dca5f915f5b3",
   "metadata": {},
   "outputs": [],
   "source": [
    "# Realizar los reemplazos especificados\n",
    "reemplazos = {\n",
    "    np.nan: 'Sin datos',\n",
    "}\n",
    "\n",
    "df1['ofv_extorsion_redes_sociales'] = df1['ofv_extorsion_redes_sociales'].replace(reemplazos)"
   ]
  },
  {
   "cell_type": "code",
   "execution_count": 87,
   "id": "349b9be5-3f1b-4b23-bf90-88ee522726de",
   "metadata": {},
   "outputs": [],
   "source": [
    "columnas_a_eliminar = ['caso_id', 'vs_violencia_digital',\n",
    "       'ofv_extorsion_redes_sociales','intervencion_fecha_hora','victima_vinculo_agresor','vinculo_agresor2']\n",
    "# Eliminar las columnas del DataFrame\n",
    "df1.drop(columns=columnas_a_eliminar, inplace=True)"
   ]
  },
  {
   "cell_type": "code",
   "execution_count": 88,
   "id": "f68a5629-4898-4545-a832-0076ae62cb27",
   "metadata": {},
   "outputs": [
    {
     "name": "stdout",
     "output_type": "stream",
     "text": [
      "<class 'pandas.core.frame.DataFrame'>\n",
      "Int64Index: 6220 entries, 0 to 6251\n",
      "Data columns (total 50 columns):\n",
      " #   Column                                     Non-Null Count  Dtype         \n",
      "---  ------                                     --------------  -----         \n",
      " 0   victima_edad                               6220 non-null   int64         \n",
      " 1   victima_convive_agresor                    6220 non-null   object        \n",
      " 2   victima_nacionalidad                       6220 non-null   object        \n",
      " 3   victima_genero                             6220 non-null   object        \n",
      " 4   victima_discapacidad                       6220 non-null   object        \n",
      " 5   vs_violacion_via_vaginal                   6220 non-null   object        \n",
      " 6   vs_violacion_via_anal                      6220 non-null   object        \n",
      " 7   vs_violacion_via_oral                      6220 non-null   object        \n",
      " 8   vs_tentativa_violacion                     6220 non-null   object        \n",
      " 9   vs_tocamiento_sexual                       6220 non-null   object        \n",
      " 10  vs_intento_tocamiento                      6220 non-null   object        \n",
      " 11  vs_Intento_violación_tercera_persona       6220 non-null   object        \n",
      " 12  vs_grooming                                5305 non-null   object        \n",
      " 13  vs_exhibicionismo                          6220 non-null   object        \n",
      " 14  vs_amenazas_verbales_contenido_sexual      6220 non-null   object        \n",
      " 15  vs_explotacion_sexual                      6220 non-null   object        \n",
      " 16  vs_explotacion_sexual_comercial            6220 non-null   object        \n",
      " 17  vs_explotacion_sexual_viajes_turismo       6220 non-null   object        \n",
      " 18  vs_sospecha_trata_personas_fines_sexuales  6220 non-null   object        \n",
      " 19  vs_existencia_facilitador_corrupcion_nnya  6220 non-null   object        \n",
      " 20  vs_obligacion_sacarse_fotos_pornograficas  6220 non-null   object        \n",
      " 21  vs_eyaculacion_partes_cuerpo               6220 non-null   object        \n",
      " 22  vs_acoso_sexual                            6220 non-null   object        \n",
      " 23  vs_iniciacion_sexual_forzada_inducida      6220 non-null   object        \n",
      " 24  vs_otra_forma_violencia_sexual             6220 non-null   object        \n",
      " 25  vs_no_sabe_no_contesta                     6220 non-null   object        \n",
      " 26  ofv_sentimiento_amenaza                    6220 non-null   object        \n",
      " 27  ofv_amenaza_explicita                      6220 non-null   object        \n",
      " 28  ofv_violencia_fisica                       6220 non-null   object        \n",
      " 29  ofv_intento_ahorcar                        6220 non-null   object        \n",
      " 30  ofv_intento_quemar                         6220 non-null   object        \n",
      " 31  ofv_intento_ahogar                         6220 non-null   object        \n",
      " 32  ofv_amenaza_muerte                         6220 non-null   object        \n",
      " 33  ofv_uso_sustancias_psicoactivas            6220 non-null   object        \n",
      " 34  ofv_intento_privacion_libertad             6220 non-null   object        \n",
      " 35  ofv_privacion_libertad                     6220 non-null   object        \n",
      " 36  ofv_uso_arma_blanca                        6220 non-null   object        \n",
      " 37  ofv_uso_arma_fuego                         6220 non-null   object        \n",
      " 38  ofv_enganio_seduccion                      6220 non-null   object        \n",
      " 39  ofv_intento_matar                          6220 non-null   object        \n",
      " 40  ofv_uso_animal_victimizar                  6220 non-null   object        \n",
      " 41  ofv_grooming                               5305 non-null   object        \n",
      " 42  ofv_otra_forma_violencia                   6220 non-null   object        \n",
      " 43  ofv_no_sabe_no_contesta                    6220 non-null   object        \n",
      " 44  fecha_hora                                 6220 non-null   datetime64[ns]\n",
      " 45  año                                        6220 non-null   int64         \n",
      " 46  mes                                        6220 non-null   int64         \n",
      " 47  día                                        6220 non-null   int64         \n",
      " 48  hora                                       6220 non-null   int64         \n",
      " 49  vinculo_agresor1                           6220 non-null   object        \n",
      "dtypes: datetime64[ns](1), int64(5), object(44)\n",
      "memory usage: 2.4+ MB\n"
     ]
    }
   ],
   "source": [
    "df1.info()"
   ]
  },
  {
   "cell_type": "code",
   "execution_count": 89,
   "id": "c84e495e-a733-49f5-a0af-dba5a7b2815f",
   "metadata": {},
   "outputs": [],
   "source": [
    "nuevo_orden_columnas = [\n",
    "    'victima_edad', 'victima_convive_agresor', 'victima_nacionalidad','victima_genero', 'victima_discapacidad',\n",
    "    #====================================================================================================================\n",
    "    'vinculo_agresor1', \n",
    "    #====================================================================================================================\n",
    "    'fecha_hora', 'año', 'mes', 'día', 'hora',     \n",
    "    #=====================================================================================================================\n",
    "    'vs_violacion_via_vaginal','vs_violacion_via_anal', 'vs_violacion_via_oral','vs_tentativa_violacion', 'vs_tocamiento_sexual',\n",
    "    'vs_intento_tocamiento', 'vs_Intento_violación_tercera_persona','vs_grooming', 'vs_exhibicionismo',\n",
    "    'vs_amenazas_verbales_contenido_sexual', 'vs_explotacion_sexual','vs_explotacion_sexual_comercial',\n",
    "    'vs_explotacion_sexual_viajes_turismo','vs_sospecha_trata_personas_fines_sexuales','vs_existencia_facilitador_corrupcion_nnya',\n",
    "    'vs_obligacion_sacarse_fotos_pornograficas','vs_eyaculacion_partes_cuerpo', 'vs_acoso_sexual',\n",
    "    'vs_iniciacion_sexual_forzada_inducida','vs_otra_forma_violencia_sexual', 'vs_no_sabe_no_contesta',\n",
    "    #=====================================================================================================================\n",
    "    'ofv_sentimiento_amenaza', 'ofv_amenaza_explicita','ofv_violencia_fisica', 'ofv_intento_ahorcar', 'ofv_intento_quemar',\n",
    "    'ofv_intento_ahogar', 'ofv_amenaza_muerte','ofv_uso_sustancias_psicoactivas','ofv_intento_privacion_libertad',\n",
    "    'ofv_privacion_libertad', 'ofv_uso_arma_blanca', 'ofv_uso_arma_fuego','ofv_enganio_seduccion', 'ofv_intento_matar',\n",
    "    'ofv_uso_animal_victimizar', 'ofv_grooming', 'ofv_otra_forma_violencia','ofv_no_sabe_no_contesta',\n",
    "       ]\n",
    "\n",
    "# Reordenar las columnas del DataFrame\n",
    "df1 = df1[nuevo_orden_columnas]"
   ]
  },
  {
   "cell_type": "code",
   "execution_count": 90,
   "id": "c676acbc-a2c1-4099-862e-a341b5b950c6",
   "metadata": {},
   "outputs": [],
   "source": [
    "# Definir los límites de los bins, incluyendo el 0\n",
    "bins = [0, 5, 10, 15, 20, 25, 30, 35, 40, 45, 50, 55, 60, 65, 70, 75, 80, 85, 90, 95, 100]\n",
    "\n",
    "# Definir las etiquetas para cada rango de cinco años, incluyendo '0-5'\n",
    "labels = ['0-5', '6-10', '11-15', '16-20', '21-25', '26-30', '31-35', '36-40', '41-45', \n",
    "          '46-50', '51-55', '56-60', '61-65', '66-70', '71-75', '76-80', '81-85', \n",
    "          '86-90', '91-95', '96-100']\n",
    "\n",
    "# Crear una nueva columna 'grupo_edad' usando pd.cut()\n",
    "df1['grupo_edad'] = pd.cut(df1['victima_edad'].astype(int), bins=bins, labels=labels, right=False)\n"
   ]
  },
  {
   "cell_type": "code",
   "execution_count": 91,
   "id": "3c494bbd-bc19-4fe1-a691-115a4c16af65",
   "metadata": {},
   "outputs": [
    {
     "name": "stdout",
     "output_type": "stream",
     "text": [
      "          vinculo_agresor1 vinculo_agresor0\n",
      "0            Otro familiar         Familiar\n",
      "1              Desconocido      OtroVinculo\n",
      "2     Conocido no familiar      OtroVinculo\n",
      "3     Conocido no familiar      OtroVinculo\n",
      "4                Sin datos      OtroVinculo\n",
      "...                    ...              ...\n",
      "6247  Conocido no familiar      OtroVinculo\n",
      "6248           Desconocido      OtroVinculo\n",
      "6249  Conocido no familiar      OtroVinculo\n",
      "6250             Sin datos      OtroVinculo\n",
      "6251         Otro familiar         Familiar\n",
      "\n",
      "[6220 rows x 2 columns]\n"
     ]
    }
   ],
   "source": [
    "# Definir las categorías\n",
    "Familiar = ['Otro familiar', 'Padre', 'Padrastro', 'Abuelo/a', 'Madrastra', 'Hermano/a', 'Tío', 'Madre']\n",
    "OtroVinculo = ['Desconocido', 'Conocido no familiar', 'Sin datos']\n",
    "Conyugal = ['Ex pareja', 'Pareja']\n",
    "\n",
    "# Función para categorizar\n",
    "def categorizar_vinculo(vinculo):\n",
    "    if vinculo in Familiar:\n",
    "        return 'Familiar'\n",
    "    elif vinculo in OtroVinculo:\n",
    "        return 'OtroVinculo'\n",
    "    elif vinculo in Conyugal:\n",
    "        return 'Conyugal'\n",
    "    else:\n",
    "        return 'Otro'\n",
    "\n",
    "# Crear la nueva columna 'vinculo_agresor0'\n",
    "df1['vinculo_agresor0'] = df1['vinculo_agresor1'].apply(categorizar_vinculo)\n",
    "\n",
    "# Mostrar el DataFrame resultante\n",
    "print(df1[['vinculo_agresor1', 'vinculo_agresor0']])"
   ]
  },
  {
   "cell_type": "code",
   "execution_count": 92,
   "id": "ea690e24-6e99-43c1-943b-0014b1c10b01",
   "metadata": {},
   "outputs": [
    {
     "data": {
      "text/plain": [
       "Index(['victima_edad', 'victima_convive_agresor', 'victima_nacionalidad',\n",
       "       'victima_genero', 'victima_discapacidad', 'vinculo_agresor1',\n",
       "       'fecha_hora', 'año', 'mes', 'día', 'hora', 'vs_violacion_via_vaginal',\n",
       "       'vs_violacion_via_anal', 'vs_violacion_via_oral',\n",
       "       'vs_tentativa_violacion', 'vs_tocamiento_sexual',\n",
       "       'vs_intento_tocamiento', 'vs_Intento_violación_tercera_persona',\n",
       "       'vs_grooming', 'vs_exhibicionismo',\n",
       "       'vs_amenazas_verbales_contenido_sexual', 'vs_explotacion_sexual',\n",
       "       'vs_explotacion_sexual_comercial',\n",
       "       'vs_explotacion_sexual_viajes_turismo',\n",
       "       'vs_sospecha_trata_personas_fines_sexuales',\n",
       "       'vs_existencia_facilitador_corrupcion_nnya',\n",
       "       'vs_obligacion_sacarse_fotos_pornograficas',\n",
       "       'vs_eyaculacion_partes_cuerpo', 'vs_acoso_sexual',\n",
       "       'vs_iniciacion_sexual_forzada_inducida',\n",
       "       'vs_otra_forma_violencia_sexual', 'vs_no_sabe_no_contesta',\n",
       "       'ofv_sentimiento_amenaza', 'ofv_amenaza_explicita',\n",
       "       'ofv_violencia_fisica', 'ofv_intento_ahorcar', 'ofv_intento_quemar',\n",
       "       'ofv_intento_ahogar', 'ofv_amenaza_muerte',\n",
       "       'ofv_uso_sustancias_psicoactivas', 'ofv_intento_privacion_libertad',\n",
       "       'ofv_privacion_libertad', 'ofv_uso_arma_blanca', 'ofv_uso_arma_fuego',\n",
       "       'ofv_enganio_seduccion', 'ofv_intento_matar',\n",
       "       'ofv_uso_animal_victimizar', 'ofv_grooming', 'ofv_otra_forma_violencia',\n",
       "       'ofv_no_sabe_no_contesta', 'grupo_edad', 'vinculo_agresor0'],\n",
       "      dtype='object')"
      ]
     },
     "execution_count": 92,
     "metadata": {},
     "output_type": "execute_result"
    }
   ],
   "source": [
    "df1.columns"
   ]
  },
  {
   "cell_type": "markdown",
   "id": "a27eeadb-d64b-43cb-835f-1a4bda1ec5c1",
   "metadata": {},
   "source": [
    "<h4>Orden final</h4>"
   ]
  },
  {
   "cell_type": "code",
   "execution_count": 93,
   "id": "2b7302ed-a5d0-4351-b018-db51b4e72b68",
   "metadata": {},
   "outputs": [],
   "source": [
    "nuevo_orden_columnas = ['grupo_edad','victima_edad','victima_convive_agresor',\n",
    "                        'victima_nacionalidad','victima_genero','victima_discapacidad',\n",
    "    #====================================================================================================================\n",
    "   'vinculo_agresor0','vinculo_agresor1', \n",
    "    #====================================================================================================================\n",
    "    'fecha_hora','año','mes','día','hora',     \n",
    "    #=====================================================================================================================\n",
    "    'vs_violacion_via_vaginal','vs_violacion_via_anal', 'vs_violacion_via_oral','vs_tentativa_violacion', 'vs_tocamiento_sexual',\n",
    "    'vs_intento_tocamiento', 'vs_Intento_violación_tercera_persona','vs_grooming', 'vs_exhibicionismo',\n",
    "    'vs_amenazas_verbales_contenido_sexual', 'vs_explotacion_sexual','vs_explotacion_sexual_comercial',\n",
    "    'vs_explotacion_sexual_viajes_turismo','vs_sospecha_trata_personas_fines_sexuales','vs_existencia_facilitador_corrupcion_nnya',\n",
    "    'vs_obligacion_sacarse_fotos_pornograficas','vs_eyaculacion_partes_cuerpo', 'vs_acoso_sexual',\n",
    "    'vs_iniciacion_sexual_forzada_inducida','vs_otra_forma_violencia_sexual', 'vs_no_sabe_no_contesta',\n",
    "    #=====================================================================================================================\n",
    "    'ofv_sentimiento_amenaza', 'ofv_amenaza_explicita','ofv_violencia_fisica', 'ofv_intento_ahorcar', 'ofv_intento_quemar',\n",
    "    'ofv_intento_ahogar', 'ofv_amenaza_muerte','ofv_uso_sustancias_psicoactivas','ofv_intento_privacion_libertad',\n",
    "    'ofv_privacion_libertad', 'ofv_uso_arma_blanca', 'ofv_uso_arma_fuego','ofv_enganio_seduccion', 'ofv_intento_matar',\n",
    "    'ofv_uso_animal_victimizar', 'ofv_grooming', 'ofv_otra_forma_violencia','ofv_no_sabe_no_contesta',\n",
    "       ]\n",
    "\n",
    "# Reordenar las columnas del DataFrame\n",
    "df1 = df1[nuevo_orden_columnas]"
   ]
  },
  {
   "cell_type": "code",
   "execution_count": 94,
   "id": "64ffc85b-7e0b-47fe-ae07-624546ffbfbb",
   "metadata": {},
   "outputs": [
    {
     "name": "stdout",
     "output_type": "stream",
     "text": [
      "Index(['GrupoEdad', 'VicEdad', 'VicConvAgresor', 'VicNacion', 'VicGen',\n",
      "       'VicDisc', 'VincAgre0', 'VincAgr1', 'FechaHora', 'Año', 'Mes', 'Dia',\n",
      "       'Hora', 'VsViaVaginal', 'VsViaAnal', 'VsViaOral', 'VsTentaViolacion',\n",
      "       'VsTocSexual', 'VsIntentTocamiento', 'VsIntentVTerceraPersona',\n",
      "       'VsGrooming', 'VsExhibicionismo', 'VsAmezsVrblsCntSexual',\n",
      "       'VsExplotSex', 'VsExplotSexComercial', 'VsExplotSexTurismo',\n",
      "       'VsSospechaTPers', 'VsExistFacilitadorNNYA',\n",
      "       'VsObligFotosPornograficas', 'VsEyaculacionCuerpo', 'VsAcosoSex',\n",
      "       'VsIniciacionSexForzada', 'VsOtraFormaVSex', 'VsNSN', 'OfvSentAmnz',\n",
      "       'OfvAmnzExplicit', 'OfvVFisica', 'OfvIntentAhorcar', 'OfvIntentQuemar',\n",
      "       'OfvIntentAhogar', 'OfvAmnzMuerte', 'OfvUsoSust',\n",
      "       'OfvIntentPrivacionLibrtd', 'OfvPrivacionLibrtd', 'OfvUsoArmaBnc',\n",
      "       'OfvUsoArmaFueg', 'OfvEnganioSeduccion', 'OfvIntentMatar',\n",
      "       'OfvUsoAnimalVictimizar', 'OfvGrooming', 'OfvOtraForma', 'OfvNSNC'],\n",
      "      dtype='object')\n"
     ]
    }
   ],
   "source": [
    "# Diccionario con los nuevos nombres de las columnas\n",
    "nuevos_nombres = {\n",
    "    'grupo_edad': 'GrupoEdad', \n",
    "    'victima_edad': 'VicEdad', \n",
    "    'victima_convive_agresor': 'VicConvAgresor',\n",
    "    'victima_nacionalidad': 'VicNacion', \n",
    "    'victima_genero': 'VicGen', \n",
    "    'victima_discapacidad': 'VicDisc',\n",
    "    'vinculo_agresor0': 'VincAgre0', \n",
    "    'vinculo_agresor1': 'VincAgr1', \n",
    "    'fecha_hora': 'FechaHora', \n",
    "    'año': 'Año', \n",
    "    'mes': 'Mes',\n",
    "    'día': 'Dia', \n",
    "    'hora': 'Hora', \n",
    "    'vs_violacion_via_vaginal': 'VsViaVaginal', \n",
    "    'vs_violacion_via_anal': 'VsViaAnal',\n",
    "    'vs_violacion_via_oral': 'VsViaOral', \n",
    "    'vs_tentativa_violacion': 'VsTentaViolacion',\n",
    "    'vs_tocamiento_sexual': 'VsTocSexual', \n",
    "    'vs_intento_tocamiento': 'VsIntentTocamiento',\n",
    "    'vs_Intento_violación_tercera_persona': 'VsIntentVTerceraPersona', \n",
    "    'vs_grooming': 'VsGrooming',\n",
    "    'vs_exhibicionismo': 'VsExhibicionismo', \n",
    "    'vs_amenazas_verbales_contenido_sexual': 'VsAmezsVrblsCntSexual',\n",
    "    'vs_explotacion_sexual': 'VsExplotSex', \n",
    "    'vs_explotacion_sexual_comercial': 'VsExplotSexComercial',\n",
    "    'vs_explotacion_sexual_viajes_turismo': 'VsExplotSexTurismo',\n",
    "    'vs_sospecha_trata_personas_fines_sexuales': 'VsSospechaTPers',\n",
    "    'vs_existencia_facilitador_corrupcion_nnya': 'VsExistFacilitadorNNYA',\n",
    "    'vs_obligacion_sacarse_fotos_pornograficas': 'VsObligFotosPornograficas',\n",
    "    'vs_eyaculacion_partes_cuerpo': 'VsEyaculacionCuerpo', \n",
    "    'vs_acoso_sexual': 'VsAcosoSex',\n",
    "    'vs_iniciacion_sexual_forzada_inducida': 'VsIniciacionSexForzada',\n",
    "    'vs_otra_forma_violencia_sexual': 'VsOtraFormaVSex', \n",
    "    'vs_no_sabe_no_contesta': 'VsNSN',\n",
    "    'ofv_sentimiento_amenaza': 'OfvSentAmnz', \n",
    "    'ofv_amenaza_explicita': 'OfvAmnzExplicit',\n",
    "    'ofv_violencia_fisica': 'OfvVFisica', \n",
    "    'ofv_intento_ahorcar': 'OfvIntentAhorcar', \n",
    "    'ofv_intento_quemar': 'OfvIntentQuemar',\n",
    "    'ofv_intento_ahogar': 'OfvIntentAhogar', \n",
    "    'ofv_amenaza_muerte': 'OfvAmnzMuerte',\n",
    "    'ofv_uso_sustancias_psicoactivas': 'OfvUsoSust', \n",
    "    'ofv_intento_privacion_libertad': 'OfvIntentPrivacionLibrtd',\n",
    "    'ofv_privacion_libertad': 'OfvPrivacionLibrtd', \n",
    "    'ofv_uso_arma_blanca': 'OfvUsoArmaBnc', \n",
    "    'ofv_uso_arma_fuego': 'OfvUsoArmaFueg',\n",
    "    'ofv_enganio_seduccion': 'OfvEnganioSeduccion', \n",
    "    'ofv_intento_matar': 'OfvIntentMatar',\n",
    "    'ofv_uso_animal_victimizar': 'OfvUsoAnimalVictimizar', \n",
    "    'ofv_grooming': 'OfvGrooming', \n",
    "    'ofv_otra_forma_violencia': 'OfvOtraForma',\n",
    "    'ofv_no_sabe_no_contesta': 'OfvNSNC'\n",
    "}\n",
    "\n",
    "# Renombrar las columnas\n",
    "df1 = df1.rename(columns=nuevos_nombres)\n",
    "\n",
    "# Mostrar el DataFrame resultante\n",
    "print(df1.columns)"
   ]
  },
  {
   "cell_type": "markdown",
   "id": "bf020d6e-9818-4ac2-a23c-081905476608",
   "metadata": {},
   "source": [
    "<H2>Machine Learning</H2>"
   ]
  },
  {
   "cell_type": "code",
   "execution_count": 95,
   "id": "0b43bb64-403e-4e7e-803e-c0d7c6fa4e45",
   "metadata": {},
   "outputs": [],
   "source": [
    "columnas_a_eliminar = ['VincAgre0','FechaHora','GrupoEdad']\n",
    "# Eliminar las columnas del DataFrame\n",
    "df1.drop(columns=columnas_a_eliminar, inplace=True)"
   ]
  },
  {
   "cell_type": "code",
   "execution_count": 96,
   "id": "3fac07f0-f95b-4976-af07-d70c39f056db",
   "metadata": {},
   "outputs": [],
   "source": [
    "df2=df1.copy()"
   ]
  },
  {
   "cell_type": "code",
   "execution_count": 97,
   "id": "4c899b1a-c98c-407d-92c0-ff56f420dfc9",
   "metadata": {},
   "outputs": [
    {
     "name": "stdout",
     "output_type": "stream",
     "text": [
      "<class 'pandas.core.frame.DataFrame'>\n",
      "Int64Index: 6220 entries, 0 to 6251\n",
      "Data columns (total 49 columns):\n",
      " #   Column                     Non-Null Count  Dtype \n",
      "---  ------                     --------------  ----- \n",
      " 0   VicEdad                    6220 non-null   int64 \n",
      " 1   VicConvAgresor             6220 non-null   object\n",
      " 2   VicNacion                  6220 non-null   object\n",
      " 3   VicGen                     6220 non-null   object\n",
      " 4   VicDisc                    6220 non-null   object\n",
      " 5   VincAgr1                   6220 non-null   object\n",
      " 6   Año                        6220 non-null   int64 \n",
      " 7   Mes                        6220 non-null   int64 \n",
      " 8   Dia                        6220 non-null   int64 \n",
      " 9   Hora                       6220 non-null   int64 \n",
      " 10  VsViaVaginal               6220 non-null   object\n",
      " 11  VsViaAnal                  6220 non-null   object\n",
      " 12  VsViaOral                  6220 non-null   object\n",
      " 13  VsTentaViolacion           6220 non-null   object\n",
      " 14  VsTocSexual                6220 non-null   object\n",
      " 15  VsIntentTocamiento         6220 non-null   object\n",
      " 16  VsIntentVTerceraPersona    6220 non-null   object\n",
      " 17  VsGrooming                 5305 non-null   object\n",
      " 18  VsExhibicionismo           6220 non-null   object\n",
      " 19  VsAmezsVrblsCntSexual      6220 non-null   object\n",
      " 20  VsExplotSex                6220 non-null   object\n",
      " 21  VsExplotSexComercial       6220 non-null   object\n",
      " 22  VsExplotSexTurismo         6220 non-null   object\n",
      " 23  VsSospechaTPers            6220 non-null   object\n",
      " 24  VsExistFacilitadorNNYA     6220 non-null   object\n",
      " 25  VsObligFotosPornograficas  6220 non-null   object\n",
      " 26  VsEyaculacionCuerpo        6220 non-null   object\n",
      " 27  VsAcosoSex                 6220 non-null   object\n",
      " 28  VsIniciacionSexForzada     6220 non-null   object\n",
      " 29  VsOtraFormaVSex            6220 non-null   object\n",
      " 30  VsNSN                      6220 non-null   object\n",
      " 31  OfvSentAmnz                6220 non-null   object\n",
      " 32  OfvAmnzExplicit            6220 non-null   object\n",
      " 33  OfvVFisica                 6220 non-null   object\n",
      " 34  OfvIntentAhorcar           6220 non-null   object\n",
      " 35  OfvIntentQuemar            6220 non-null   object\n",
      " 36  OfvIntentAhogar            6220 non-null   object\n",
      " 37  OfvAmnzMuerte              6220 non-null   object\n",
      " 38  OfvUsoSust                 6220 non-null   object\n",
      " 39  OfvIntentPrivacionLibrtd   6220 non-null   object\n",
      " 40  OfvPrivacionLibrtd         6220 non-null   object\n",
      " 41  OfvUsoArmaBnc              6220 non-null   object\n",
      " 42  OfvUsoArmaFueg             6220 non-null   object\n",
      " 43  OfvEnganioSeduccion        6220 non-null   object\n",
      " 44  OfvIntentMatar             6220 non-null   object\n",
      " 45  OfvUsoAnimalVictimizar     6220 non-null   object\n",
      " 46  OfvGrooming                5305 non-null   object\n",
      " 47  OfvOtraForma               6220 non-null   object\n",
      " 48  OfvNSNC                    6220 non-null   object\n",
      "dtypes: int64(5), object(44)\n",
      "memory usage: 2.4+ MB\n"
     ]
    }
   ],
   "source": [
    "df2.info()"
   ]
  },
  {
   "cell_type": "code",
   "execution_count": 98,
   "id": "e464154a-49f1-4506-86f7-bf9cef2cdb38",
   "metadata": {},
   "outputs": [],
   "source": [
    "# Manejo de valores faltantes\n",
    "df2['VsGrooming'].fillna('Unknown', inplace=True)\n",
    "df2['OfvGrooming'].fillna('Unknown', inplace=True)"
   ]
  },
  {
   "cell_type": "markdown",
   "id": "81030345-a8ae-46e8-8729-7964270190d0",
   "metadata": {},
   "source": [
    "<H2>Descargar</H2>"
   ]
  },
  {
   "cell_type": "code",
   "execution_count": 99,
   "id": "590117d9-1b30-47ec-be77-ee090d6a8bb5",
   "metadata": {},
   "outputs": [
    {
     "data": {
      "text/html": [
       "<a href=/home/julio/jupyter_files/ArgentinaSeguridad/linea137/datos3.csv target=\"_blank\">Descargar CSV</a>"
      ],
      "text/plain": [
       "<IPython.core.display.HTML object>"
      ]
     },
     "execution_count": 99,
     "metadata": {},
     "output_type": "execute_result"
    }
   ],
   "source": [
    "import pandas as pd\n",
    "from IPython.display import HTML\n",
    "import os\n",
    "\n",
    "# Obtener la ruta actual del notebook\n",
    "ruta_actual = os.getcwd()\n",
    "\n",
    "# Guardar el DataFrame como un archivo CSV en la misma carpeta del notebook\n",
    "csv_filename = os.path.join(ruta_actual, 'datos3.csv')\n",
    "df2.to_csv(csv_filename, index=False)\n",
    "\n",
    "# Crear un enlace para descargar el archivo CSV\n",
    "def create_download_link(csv_filename, title = \"Descargar CSV\"):\n",
    "    html = '<a href={filename} target=\"_blank\">{title}</a>'\n",
    "    html = html.format(filename=csv_filename, title=title)\n",
    "    return HTML(html)\n",
    "\n",
    "# Mostrar el enlace de descarga\n",
    "create_download_link(csv_filename)"
   ]
  },
  {
   "cell_type": "markdown",
   "id": "ca65e4b8-452a-4e3a-83ff-a7ba0443a278",
   "metadata": {},
   "source": [
    "<h2>Cargamos archivo y empezamos</h2>"
   ]
  },
  {
   "cell_type": "code",
   "execution_count": 54,
   "id": "2c663e22-edb9-45cd-ab16-baad81d17202",
   "metadata": {},
   "outputs": [],
   "source": [
    "#Borrar\n",
    "#Madrastra                  3\n",
    "#Hermana                    1"
   ]
  },
  {
   "cell_type": "code",
   "execution_count": 101,
   "id": "6139904d-18b9-434e-bb4d-8a52d30852b1",
   "metadata": {},
   "outputs": [],
   "source": [
    "url1='/home/julio/jupyter_files/ArgentinaSeguridad/linea137/datos3.csv'\n",
    "df = pd.read_csv(url1)"
   ]
  },
  {
   "cell_type": "markdown",
   "id": "bb7e7659-eb69-4615-9c29-982ffbd50aea",
   "metadata": {},
   "source": [
    "<H2>Random Forest</H2>"
   ]
  },
  {
   "cell_type": "code",
   "execution_count": 113,
   "id": "5246c2cf-d4c9-44ed-bf93-88fbca9f6c0c",
   "metadata": {},
   "outputs": [],
   "source": [
    "import pandas as pd\n",
    "import numpy as np\n",
    "from sklearn.preprocessing import StandardScaler, OneHotEncoder, LabelEncoder\n",
    "from sklearn.model_selection import train_test_split\n",
    "from sklearn.metrics import accuracy_score, classification_report\n",
    "import tensorflow as tf\n",
    "from sklearn.model_selection import GridSearchCV\n",
    "from sklearn.ensemble import RandomForestClassifier"
   ]
  },
  {
   "cell_type": "markdown",
   "id": "8285a8b1-0499-4d05-bca3-a0ca3168b42c",
   "metadata": {},
   "source": [
    "Este código carga el conjunto de datos desde un archivo CSV ubicado en la ruta especificada."
   ]
  },
  {
   "cell_type": "code",
   "execution_count": 114,
   "id": "07021950-c642-49c6-826f-8e55dd8231a7",
   "metadata": {},
   "outputs": [],
   "source": [
    "url1='/home/julio/jupyter_files/ArgentinaSeguridad/linea137/datos3.csv'\n",
    "df = pd.read_csv(url1)"
   ]
  },
  {
   "cell_type": "markdown",
   "id": "7e935875-6525-41e9-8e11-91bd02e38067",
   "metadata": {},
   "source": [
    "En este paso, separamos las características (X) de la variable objetivo (y). La columna VincAgr1 es nuestra variable objetivo."
   ]
  },
  {
   "cell_type": "code",
   "execution_count": 115,
   "id": "e7eef79d-3141-496a-bff3-f268edcba304",
   "metadata": {},
   "outputs": [],
   "source": [
    "# Paso 2: Separar características y variable objetivo\n",
    "X = df.drop('VincAgr1', axis=1)  # Características\n",
    "y = df['VincAgr1']  # Variable objetivo"
   ]
  },
  {
   "cell_type": "markdown",
   "id": "089c17da-5074-4f79-b4f4-f422a035417a",
   "metadata": {},
   "source": [
    "Identificamos las columnas categóricas y aplicamos one-hot encoding para convertir estas columnas en una forma que pueda ser utilizada por el modelo de machine learning. drop_first=True elimina una categoría para evitar la colinealidad."
   ]
  },
  {
   "cell_type": "code",
   "execution_count": 116,
   "id": "49386c2e-11cc-4a63-a29f-b35ad465215a",
   "metadata": {},
   "outputs": [],
   "source": [
    "# Paso 3: Codificación de variables categóricas (one-hot encoding)\n",
    "categorical_cols = X.select_dtypes(include=['object']).columns\n",
    "X_encoded = pd.get_dummies(X, columns=categorical_cols, drop_first=True)"
   ]
  },
  {
   "cell_type": "markdown",
   "id": "ad3d738a-2690-491b-94f3-b1a8cba7c881",
   "metadata": {},
   "source": [
    "Dividimos el conjunto de datos en conjuntos de entrenamiento y prueba. El 20% de los datos se asigna al conjunto de prueba."
   ]
  },
  {
   "cell_type": "code",
   "execution_count": 117,
   "id": "b99c9dbc-ad5b-407f-b693-e5a3a00b8c4c",
   "metadata": {},
   "outputs": [],
   "source": [
    "# Paso 4: Dividir los datos en entrenamiento y prueba\n",
    "X_train, X_test, y_train, y_test = train_test_split(X_encoded, y, test_size=0.2, random_state=42)"
   ]
  },
  {
   "cell_type": "markdown",
   "id": "b9684558-1b0b-4662-9c92-dcd245451c12",
   "metadata": {},
   "source": [
    "Identificamos las columnas numéricas y aplicamos estandarización (media = 0, desviación estándar = 1) usando StandardScaler de scikit-learn. Esta estandarización se realiza tanto en el conjunto de entrenamiento como en el de prueba."
   ]
  },
  {
   "cell_type": "code",
   "execution_count": 118,
   "id": "2b47345c-3aa3-477d-92f0-f1795a3d2a35",
   "metadata": {},
   "outputs": [],
   "source": [
    "# Paso 5: Estandarización de características numéricas\n",
    "numeric_cols = X.select_dtypes(include=['int64']).columns\n",
    "scaler = StandardScaler()\n",
    "X_train[numeric_cols] = scaler.fit_transform(X_train[numeric_cols])\n",
    "X_test[numeric_cols] = scaler.transform(X_test[numeric_cols])"
   ]
  },
  {
   "cell_type": "markdown",
   "id": "fa125076-ae44-42ce-887b-b07d752da9bb",
   "metadata": {},
   "source": [
    "Aquí, configuramos una búsqueda en cuadrícula (GridSearchCV) para encontrar los mejores hiperparámetros para el modelo RandomForestClassifier. Los hiperparámetros a buscar incluyen el número de estimadores (n_estimators), la profundidad máxima (max_depth), el número mínimo de muestras necesarias para dividir un nodo (min_samples_split), y el número mínimo de muestras en una hoja (min_samples_leaf)."
   ]
  },
  {
   "cell_type": "code",
   "execution_count": 119,
   "id": "72722c4e-e5a4-4a1e-967c-16ca72bf6c53",
   "metadata": {},
   "outputs": [
    {
     "name": "stdout",
     "output_type": "stream",
     "text": [
      "Fitting 5 folds for each of 108 candidates, totalling 540 fits\n"
     ]
    },
    {
     "name": "stderr",
     "output_type": "stream",
     "text": [
      "/home/julio/.local/lib/python3.10/site-packages/sklearn/model_selection/_split.py:737: UserWarning: The least populated class in y has only 2 members, which is less than n_splits=5.\n",
      "  warnings.warn(\n"
     ]
    },
    {
     "name": "stdout",
     "output_type": "stream",
     "text": [
      "Mejores parámetros encontrados: {'max_depth': 20, 'min_samples_leaf': 1, 'min_samples_split': 5, 'n_estimators': 200}\n"
     ]
    }
   ],
   "source": [
    "# Paso 6: Entrenar el modelo Random Forest con ajuste de hiperparámetros\n",
    "param_grid = {\n",
    "    'n_estimators': [50, 100, 200],\n",
    "    'max_depth': [None, 10, 20, 30],\n",
    "    'min_samples_split': [2, 5, 10],\n",
    "    'min_samples_leaf': [1, 2, 4]\n",
    "}\n",
    "\n",
    "grid_search = GridSearchCV(estimator=RandomForestClassifier(random_state=42),\n",
    "                           param_grid=param_grid,\n",
    "                           scoring='accuracy',\n",
    "                           cv=5,\n",
    "                           verbose=1,\n",
    "                           n_jobs=-1)\n",
    "\n",
    "grid_search.fit(X_train, y_train)\n",
    "\n",
    "best_rf_model = grid_search.best_estimator_\n",
    "best_params = grid_search.best_params_\n",
    "\n",
    "print(\"Mejores parámetros encontrados:\", best_params)"
   ]
  },
  {
   "cell_type": "markdown",
   "id": "092f2153-a7ef-4c0a-8468-1c167565f6c9",
   "metadata": {},
   "source": [
    "Finalmente, evaluamos el mejor modelo encontrado en el conjunto de prueba. Calculamos y mostramos la precisión (accuracy) y el informe de clasificación (classification_report), que incluye métricas como precisión, recall y F1-score para cada clase."
   ]
  },
  {
   "cell_type": "code",
   "execution_count": 120,
   "id": "8296b957-6732-47ec-90dd-683e02a14181",
   "metadata": {},
   "outputs": [
    {
     "name": "stdout",
     "output_type": "stream",
     "text": [
      "\n",
      "Accuracy: 0.42443729903536975\n",
      "\n",
      "Classification Report:\n",
      "                      precision    recall  f1-score   support\n",
      "\n",
      "            Abuelo/a       1.00      0.18      0.30        17\n",
      "Conocido no familiar       0.41      0.73      0.52       404\n",
      "         Desconocido       0.45      0.41      0.43       254\n",
      "           Ex pareja       0.62      0.17      0.27        59\n",
      "           Hermano/a       0.67      0.06      0.11        32\n",
      "           Madrastra       0.00      0.00      0.00         1\n",
      "               Madre       0.00      0.00      0.00         2\n",
      "       Otro familiar       0.50      0.06      0.11        85\n",
      "           Padrastro       0.40      0.39      0.40        99\n",
      "               Padre       0.36      0.18      0.24        99\n",
      "              Pareja       0.43      0.42      0.43        31\n",
      "           Sin datos       0.47      0.41      0.44        92\n",
      "                 Tío       0.67      0.03      0.06        69\n",
      "\n",
      "            accuracy                           0.42      1244\n",
      "           macro avg       0.46      0.23      0.25      1244\n",
      "        weighted avg       0.46      0.42      0.38      1244\n",
      "\n"
     ]
    },
    {
     "name": "stderr",
     "output_type": "stream",
     "text": [
      "/home/julio/.local/lib/python3.10/site-packages/sklearn/metrics/_classification.py:1509: UndefinedMetricWarning: Precision is ill-defined and being set to 0.0 in labels with no predicted samples. Use `zero_division` parameter to control this behavior.\n",
      "  _warn_prf(average, modifier, f\"{metric.capitalize()} is\", len(result))\n",
      "/home/julio/.local/lib/python3.10/site-packages/sklearn/metrics/_classification.py:1509: UndefinedMetricWarning: Precision is ill-defined and being set to 0.0 in labels with no predicted samples. Use `zero_division` parameter to control this behavior.\n",
      "  _warn_prf(average, modifier, f\"{metric.capitalize()} is\", len(result))\n",
      "/home/julio/.local/lib/python3.10/site-packages/sklearn/metrics/_classification.py:1509: UndefinedMetricWarning: Precision is ill-defined and being set to 0.0 in labels with no predicted samples. Use `zero_division` parameter to control this behavior.\n",
      "  _warn_prf(average, modifier, f\"{metric.capitalize()} is\", len(result))\n"
     ]
    }
   ],
   "source": [
    "# Paso 7: Evaluar el mejor modelo\n",
    "y_pred = best_rf_model.predict(X_test)\n",
    "\n",
    "print(\"\\nAccuracy:\", accuracy_score(y_test, y_pred))\n",
    "print(\"\\nClassification Report:\")\n",
    "print(classification_report(y_test, y_pred))"
   ]
  },
  {
   "cell_type": "markdown",
   "id": "a5354c8f-e13f-4d92-898a-baa0507ee7e1",
   "metadata": {},
   "source": [
    "### Informe de Clasificación\n",
    "\n",
    "El informe de clasificación es una herramienta fundamental para evaluar el rendimiento de un modelo de clasificación. Proporciona métricas detalladas sobre cómo el modelo clasifica las instancias en cada clase específica.\n",
    "\n",
    "#### Métricas Principales\n",
    "\n",
    "#### Precision\n",
    "\n",
    "**Precision** es la proporción de predicciones positivas correctas (verdaderos positivos) sobre todas las predicciones positivas realizadas por el modelo. Matemáticamente, se calcula como:\n",
    "\n",
    "$ \\text{Precision} = \\frac{\\text{True Positives}}{\\text{True Positives} + \\text{False Positives}} $\n",
    "\n",
    "- **True Positives (Verdaderos Positivos)**: Son los casos correctamente identificados como pertenecientes a una clase específica.\n",
    "- **False Positives (Falsos Positivos)**: Son los casos incorrectamente identificados como pertenecientes a una clase específica cuando en realidad no lo son.\n",
    "\n",
    "Una alta precisión indica que, cuando el modelo predice que una instancia pertenece a una clase, es probable que sea correcto en esa predicción. Es útil en situaciones donde los falsos positivos son costosos o indeseados, como en diagnósticos médicos.\n",
    "\n",
    "#### Recall (Exhaustividad)\n",
    "\n",
    "**Recall**, también conocido como exhaustividad, es la proporción de instancias positivas reales que fueron correctamente detectadas por el modelo. Matemáticamente, se calcula como:\n",
    "\n",
    "$ \\text{Recall} = \\frac{\\text{True Positives}}{\\text{True Positives} + \\text{False Negatives}} $\n",
    "\n",
    "- **False Negatives (Falsos Negativos)**: Son los casos que fueron incorrectamente clasificados como negativos (no pertenecientes a la clase) cuando en realidad son positivos (deberían pertenecer a la clase).\n",
    "\n",
    "Un alto recall indica que el modelo puede identificar correctamente la mayoría de las instancias positivas de una clase específica. Es importante en situaciones donde los falsos negativos son críticos, como en sistemas de detección de fraudes.\n",
    "\n",
    "#### F1-score\n",
    "\n",
    "**F1-score** es la media armónica de precision y recall. Se utiliza cuando queremos una medida que combine tanto precision como recall en una sola métrica. La fórmula del F1-score es:\n",
    "\n",
    "$ \\text{F1-score} = 2 \\times \\frac{\\text{Precision} \\times \\text{Recall}}{\\text{Precision} + \\text{Recall}} $\n",
    "\n",
    "El F1-score alcanza su mejor valor en 1 (perfecta precisión y recall) y su peor valor en 0. Es útil cuando hay un desequilibrio entre precision y recall, ya que penaliza más severamente los modelos que tienen desempeños extremos en una métrica pero no en la otra.\n",
    "\n",
    "#### Support\n",
    "\n",
    "**Support** indica el número de muestras reales de cada clase en el conjunto de prueba. Es importante considerar el soporte cuando se evalúan las métricas de clasificación, especialmente para clases con un soporte bajo, ya que puede afectar la confiabilidad de las métricas reportadas.\n",
    "\n",
    "### Interpretación del Informe\n",
    "\n",
    "Al interpretar el informe de clasificación:\n",
    "\n",
    "- **Analiza precision y recall conjuntamente**: Ambas métricas proporcionan información valiosa sobre cómo el modelo está realizando las predicciones y qué tipo de errores está cometiendo.\n",
    "  \n",
    "- **Considera el contexto del problema**: Decide cuál métrica es más crítica según las implicaciones prácticas de los errores de predicción (falsos positivos versus falsos negativos).\n",
    "\n",
    "- **Utiliza el F1-score para balancear ambas métricas**: Si buscas un equilibrio entre precision y recall, el F1-score te dará una medida combinada que puede ser más útil en contextos donde ambas métricas son importantes.\n",
    "\n",
    "\n",
    "El informe de clasificación no solo proporciona una evaluación cuantitativa del rendimiento del modelo, sino que también guía las acciones para mejorar su precisión y utilidad en aplicaciones prácticas. Al entender profundamente cada métrica y cómo se relacionan entre sí, puedes tomar decisiones informadas para ajustar tu modelo y estrategias de datos.\n"
   ]
  },
  {
   "cell_type": "markdown",
   "id": "7f54fd05-aee9-4a2c-a3d4-fd74a428bd4d",
   "metadata": {},
   "source": [
    "### Accuracy\n",
    "El modelo tiene una precisión global del 42.44%. Esto significa que el 42.44% de las predicciones hechas por el modelo coinciden con las etiquetas reales en el conjunto de prueba.\n",
    "### Interpretación por Clase\n",
    "A continuación, se presenta una interpretación resumida por clase basada en el informe de clasificación:\n",
    "\n",
    "- **Abuelo/a**: El modelo tiene una alta precisión del 100% para predecir esta clase, pero un recall bajo del 18%, lo que indica que identifica correctamente a los abuelos en una fracción de los casos que realmente son abuelos.\n",
    "  \n",
    "- **Conocido no familiar**: Tiene una precisión del 41% y un recall del 73%, lo que significa que el modelo identifica correctamente a conocidos no familiares en aproximadamente el 41% de los casos, pero falla en el 27% de los casos donde realmente son conocidos no familiares.\n",
    "\n",
    "- **Desconocido**: Tiene una precisión del 45% y un recall del 41%, lo que indica un rendimiento similar al identificar a personas desconocidas.\n",
    "\n",
    "- **Ex pareja, Hermano/a, Madrastra, Madre, Otro familiar, Padrastro, Padre, Pareja, Sin datos, Tío**: Cada una de estas clases tiene variaciones en precision, recall y F1-score. La interpretación específica varía, pero en general, el modelo parece tener dificultades para predecir estas clases de manera precisa y exhaustiva, dado que los valores de precision, recall y F1-score son bajos para muchas de estas categorías.\n",
    "\n",
    "### Conclusiones Generales\n",
    "- El modelo parece tener un rendimiento mejor en algunas clases como \"Abuelo/a\" y \"Conocido no familiar\" (aunque con baja exhaustividad en esta última), mientras que en otras clases como \"Ex pareja\", \"Hermano/a\", y otras, el rendimiento es bastante pobre.\n",
    "- El bajo valor de F1-score promedio (0.25) indica que el modelo tiene dificultades para equilibrar precision y recall en todas las clases.\n",
    "- Es crucial considerar estrategias para mejorar el rendimiento del modelo, como ajustar hiperparámetros, probar diferentes algoritmos de clasificación, o incluso obtener más datos de entrenamiento si es posible.\n",
    "\n",
    "Este análisis te proporciona una comprensión detallada del rendimiento del modelo en cada clase específica, lo que te puede ayudar a identificar áreas de mejora y posibles acciones correctivas para futuras iteraciones del modelo."
   ]
  },
  {
   "cell_type": "markdown",
   "id": "9a086b18-1763-46cb-be2f-fbefcb5512d0",
   "metadata": {},
   "source": [
    "<H2>SVM</H2>"
   ]
  },
  {
   "cell_type": "code",
   "execution_count": 128,
   "id": "242c7cc7-e554-4699-a7b2-4fe8636ead2a",
   "metadata": {},
   "outputs": [],
   "source": [
    "import pandas as pd\n",
    "from sklearn.model_selection import train_test_split, GridSearchCV\n",
    "from sklearn.svm import SVC\n",
    "from sklearn.preprocessing import StandardScaler\n",
    "from sklearn.metrics import accuracy_score, classification_report\n",
    "from sklearn.model_selection import StratifiedKFold\n",
    "from sklearn.decomposition import PCA"
   ]
  },
  {
   "cell_type": "markdown",
   "id": "8596966f-1414-4126-8cb1-3b5a08cd8cf5",
   "metadata": {},
   "source": [
    "En este paso, se carga el conjunto de datos desde un archivo CSV (datos3.csv) ubicado en la ruta especificada. El DataFrame df ahora contiene todos los datos del archivo CSV."
   ]
  },
  {
   "cell_type": "code",
   "execution_count": 129,
   "id": "6abe16d5-5c29-4640-836d-ab12c096501b",
   "metadata": {},
   "outputs": [],
   "source": [
    "# Paso 1: Cargar el dataframe y explorar los datos\n",
    "url1='/home/julio/jupyter_files/ArgentinaSeguridad/linea137/datos3.csv'\n",
    "df = pd.read_csv(url1)"
   ]
  },
  {
   "cell_type": "markdown",
   "id": "c981452d-0d29-4c89-974e-ce5ce8af5c09",
   "metadata": {},
   "source": [
    "Aquí, se separan las características (X) de la variable objetivo (y). X contiene todas las columnas excepto 'VincAgr1', que es la variable que se quiere predecir o clasificar (y)."
   ]
  },
  {
   "cell_type": "code",
   "execution_count": 130,
   "id": "81642dd1-64a3-4840-a8c7-861596fe6ca0",
   "metadata": {},
   "outputs": [],
   "source": [
    "# Paso 2: Separar características y variable objetivo\n",
    "X = df.drop('VincAgr1', axis=1)  # Características\n",
    "y = df['VincAgr1']  # Variable objetivo"
   ]
  },
  {
   "cell_type": "markdown",
   "id": "f5b3c5f8-799f-4826-bd15-035e8234fadf",
   "metadata": {},
   "source": [
    "Se identifican las columnas categóricas en X y se realiza la codificación one-hot usando pd.get_dummies(). Esto convierte las variables categóricas en variables indicadoras (0 o 1), lo que permite que los algoritmos de aprendizaje automático las utilicen de manera efectiva."
   ]
  },
  {
   "cell_type": "code",
   "execution_count": 131,
   "id": "3f083fc9-b27b-4018-a3f7-b924d0c9996b",
   "metadata": {},
   "outputs": [],
   "source": [
    "# Paso 3: Codificación de variables categóricas (one-hot encoding)\n",
    "categorical_cols = X.select_dtypes(include=['object']).columns\n",
    "X_encoded = pd.get_dummies(X, columns=categorical_cols, drop_first=True)"
   ]
  },
  {
   "cell_type": "markdown",
   "id": "2282b1ed-cecb-483a-a396-0c4b61d2ab9b",
   "metadata": {},
   "source": [
    "Se divide el conjunto de datos en conjuntos de entrenamiento (X_train, y_train) y prueba (X_test, y_test). El 20% de los datos se reservan para pruebas (test_size=0.2), y random_state=42 se utiliza para asegurar reproducibilidad en la división aleatoria de los datos."
   ]
  },
  {
   "cell_type": "code",
   "execution_count": 132,
   "id": "7423562d-b216-4d52-bb4e-899944489795",
   "metadata": {},
   "outputs": [],
   "source": [
    "# Paso 4: Dividir los datos en entrenamiento y prueba\n",
    "X_train, X_test, y_train, y_test = train_test_split(X_encoded, y, test_size=0.2, random_state=42)"
   ]
  },
  {
   "cell_type": "markdown",
   "id": "ce5bddc6-02f3-47ff-a5ee-98117378e617",
   "metadata": {},
   "source": [
    "Las características numéricas en X_train y X_test se estandarizan utilizando StandardScaler(), lo que centra las características alrededor de cero y las escala según su desviación estándar. Esto es importante para muchos algoritmos de aprendizaje automático que asumen que las características están en la misma escala."
   ]
  },
  {
   "cell_type": "code",
   "execution_count": 133,
   "id": "f0e67237-6fae-4ac7-b558-5444b3d4381e",
   "metadata": {},
   "outputs": [],
   "source": [
    "# Paso 5: Estandarización de características numéricas\n",
    "numeric_cols = X.select_dtypes(include=['int64']).columns\n",
    "scaler = StandardScaler()\n",
    "X_train[numeric_cols] = scaler.fit_transform(X_train[numeric_cols])\n",
    "X_test[numeric_cols] = scaler.transform(X_test[numeric_cols])\n",
    "\n",
    "# Aplicar PCA para reducción de dimensionalidad\n",
    "pca = PCA(n_components=0.95)  # Mantener 95% de la varianza explicada\n",
    "X_train_pca = pca.fit_transform(X_train)\n",
    "X_test_pca = pca.transform(X_test)"
   ]
  },
  {
   "cell_type": "markdown",
   "id": "ce88cde1-542d-473e-aae2-c15418936cee",
   "metadata": {},
   "source": [
    "PCA (Análisis de Componentes Principales) se utiliza para reducir la dimensionalidad de las características, manteniendo el 95% de la varianza explicada. Esto puede mejorar el rendimiento del modelo al reducir el ruido y la redundancia en los datos."
   ]
  },
  {
   "cell_type": "code",
   "execution_count": 134,
   "id": "6090cfce-f789-4613-bb83-a40b4704439c",
   "metadata": {},
   "outputs": [],
   "source": [
    "# Paso 6: Definir el modelo y el grid de hiperparámetros\n",
    "param_grid = {\n",
    "    'C': [0.1, 1],\n",
    "    'gamma': ['scale'],\n",
    "    'kernel': ['linear', 'rbf']\n",
    "}\n",
    "\n",
    "svm = SVC(random_state=42)\n",
    "stratified_cv = StratifiedKFold(n_splits=3, shuffle=True, random_state=42)"
   ]
  },
  {
   "cell_type": "markdown",
   "id": "6edb9bcd-3ddf-4d9d-8b84-cea7a5c858fe",
   "metadata": {},
   "source": [
    "Se define un modelo de Máquinas de Vectores de Soporte (SVM) con SVC() y se establece un grid de hiperparámetros (param_grid) para buscar las mejores combinaciones de hiperparámetros usando GridSearchCV. StratifiedKFold se utiliza para la validación cruzada estratificada, asegurando que cada fold tenga una proporción equilibrada de clases."
   ]
  },
  {
   "cell_type": "code",
   "execution_count": 135,
   "id": "c62e2f89-ef4e-47e2-9e3c-d9e917fff4a4",
   "metadata": {},
   "outputs": [
    {
     "name": "stderr",
     "output_type": "stream",
     "text": [
      "/home/julio/.local/lib/python3.10/site-packages/sklearn/model_selection/_split.py:737: UserWarning: The least populated class in y has only 2 members, which is less than n_splits=3.\n",
      "  warnings.warn(\n"
     ]
    },
    {
     "name": "stdout",
     "output_type": "stream",
     "text": [
      "Mejores parámetros encontrados: {'C': 1, 'gamma': 'scale', 'kernel': 'rbf'}\n"
     ]
    }
   ],
   "source": [
    "# Paso 7: Implementar GridSearchCV\n",
    "grid_search = GridSearchCV(estimator=svm,\n",
    "                           param_grid=param_grid,\n",
    "                           scoring='accuracy',\n",
    "                           cv=stratified_cv,\n",
    "                           n_jobs=1)  # Cambiar a 1 para desactivar la paralelización\n",
    "\n",
    "grid_search.fit(X_train_pca, y_train)\n",
    "\n",
    "best_svm_model = grid_search.best_estimator_\n",
    "best_params = grid_search.best_params_\n",
    "\n",
    "print(\"Mejores parámetros encontrados:\", best_params)"
   ]
  },
  {
   "cell_type": "markdown",
   "id": "88cc4f68-37ce-4973-a409-fb400190fc0c",
   "metadata": {},
   "source": [
    "GridSearchCV se utiliza para buscar la mejor combinación de hiperparámetros mediante validación cruzada. Se ajusta (fit) utilizando el conjunto de entrenamiento reducido por PCA (X_train_pca, y_train)."
   ]
  },
  {
   "cell_type": "code",
   "execution_count": 136,
   "id": "c7811e6a-1c13-4028-afee-4c86bef94f19",
   "metadata": {},
   "outputs": [
    {
     "name": "stdout",
     "output_type": "stream",
     "text": [
      "\n",
      "Accuracy: 0.39147909967845657\n",
      "\n",
      "Classification Report:\n",
      "                      precision    recall  f1-score   support\n",
      "\n",
      "            Abuelo/a       0.00      0.00      0.00        17\n",
      "Conocido no familiar       0.39      0.71      0.51       404\n",
      "         Desconocido       0.39      0.39      0.39       254\n",
      "           Ex pareja       1.00      0.03      0.07        59\n",
      "           Hermano/a       0.00      0.00      0.00        32\n",
      "           Madrastra       0.00      0.00      0.00         1\n",
      "               Madre       0.00      0.00      0.00         2\n",
      "       Otro familiar       0.00      0.00      0.00        85\n",
      "           Padrastro       0.39      0.45      0.42        99\n",
      "               Padre       0.27      0.15      0.19        99\n",
      "              Pareja       0.50      0.35      0.42        31\n",
      "           Sin datos       0.41      0.32      0.36        92\n",
      "                 Tío       0.00      0.00      0.00        69\n",
      "\n",
      "            accuracy                           0.39      1244\n",
      "           macro avg       0.26      0.19      0.18      1244\n",
      "        weighted avg       0.35      0.39      0.33      1244\n",
      "\n"
     ]
    },
    {
     "name": "stderr",
     "output_type": "stream",
     "text": [
      "/home/julio/.local/lib/python3.10/site-packages/sklearn/metrics/_classification.py:1509: UndefinedMetricWarning: Precision is ill-defined and being set to 0.0 in labels with no predicted samples. Use `zero_division` parameter to control this behavior.\n",
      "  _warn_prf(average, modifier, f\"{metric.capitalize()} is\", len(result))\n",
      "/home/julio/.local/lib/python3.10/site-packages/sklearn/metrics/_classification.py:1509: UndefinedMetricWarning: Precision is ill-defined and being set to 0.0 in labels with no predicted samples. Use `zero_division` parameter to control this behavior.\n",
      "  _warn_prf(average, modifier, f\"{metric.capitalize()} is\", len(result))\n",
      "/home/julio/.local/lib/python3.10/site-packages/sklearn/metrics/_classification.py:1509: UndefinedMetricWarning: Precision is ill-defined and being set to 0.0 in labels with no predicted samples. Use `zero_division` parameter to control this behavior.\n",
      "  _warn_prf(average, modifier, f\"{metric.capitalize()} is\", len(result))\n"
     ]
    }
   ],
   "source": [
    "# Paso 8: Evaluar el mejor modelo SVM\n",
    "y_pred = best_svm_model.predict(X_test_pca)\n",
    "\n",
    "print(\"\\nAccuracy:\", accuracy_score(y_test, y_pred))\n",
    "print(\"\\nClassification Report:\")\n",
    "print(classification_report(y_test, y_pred))"
   ]
  },
  {
   "cell_type": "markdown",
   "id": "054fd590-5616-47fc-9bd2-39f1e2706b99",
   "metadata": {},
   "source": [
    "### Interpretación de los Resultados\n",
    "\n",
    "#### Accuracy\n",
    "- **Accuracy**: 0.385 (38.5%)\n",
    "  - Esto significa que el modelo clasificó correctamente el 38.5% de las instancias en el conjunto de prueba.\n",
    "\n",
    "Aquí están los resultados para cada clase:\n",
    "\n",
    "1. **Abuelo/a**\n",
    "   - **Precision**: 0.00\n",
    "   - **Recall**: 0.00\n",
    "   - **F1-Score**: 0.00\n",
    "   - **Support**: 17\n",
    "   - Interpretación: El modelo no ha podido predecir correctamente ninguna instancia de esta clase.\n",
    "\n",
    "2. **Conocido no familiar**\n",
    "   - **Precision**: 0.39\n",
    "   - **Recall**: 0.71\n",
    "   - **F1-Score**: 0.50\n",
    "   - **Support**: 404\n",
    "   - Interpretación: Aunque la precisión es moderada, la alta sensibilidad sugiere que el modelo es capaz de identificar a la mayoría de los conocidos no familiares.\n",
    "\n",
    "3. **Desconocido**\n",
    "   - **Precision**: 0.39\n",
    "   - **Recall**: 0.39\n",
    "   - **F1-Score**: 0.39\n",
    "   - **Support**: 254\n",
    "   - Interpretación: El modelo tiene un rendimiento equilibrado pero moderado en esta clase.\n",
    "\n",
    "4. **Ex pareja**\n",
    "   - **Precision**: 1.00\n",
    "   - **Recall**: 0.03\n",
    "   - **F1-Score**: 0.07\n",
    "   - **Support**: 59\n",
    "   - Interpretación: El modelo tiene una precisión perfecta pero una muy baja sensibilidad, lo que sugiere que predice muy pocas instancias como \"Ex pareja\" correctamente.\n",
    "\n",
    "5. **Hermana**\n",
    "   - **Precision**: 0.00\n",
    "   - **Recall**: 0.00\n",
    "   - **F1-Score**: 0.00\n",
    "   - **Support**: 1\n",
    "   - Interpretación: El modelo no ha predicho ninguna instancia correctamente.\n",
    "\n",
    "6. **Hermano/a**\n",
    "   - **Precision**: 0.00\n",
    "   - **Recall**: 0.00\n",
    "   - **F1-Score**: 0.00\n",
    "   - **Support**: 31\n",
    "   - Interpretación: El modelo no ha predicho ninguna instancia correctamente.\n",
    "\n",
    "7. **Madrastra**\n",
    "   - **Precision**: 0.00\n",
    "   - **Recall**: 0.00\n",
    "   - **F1-Score**: 0.00\n",
    "   - **Support**: 1\n",
    "   - Interpretación: El modelo no ha predicho ninguna instancia correctamente.\n",
    "\n",
    "8. **Madre**\n",
    "   - **Precision**: 0.00\n",
    "   - **Recall**: 0.00\n",
    "   - **F1-Score**: 0.00\n",
    "   - **Support**: 2\n",
    "   - Interpretación: El modelo no ha predicho ninguna instancia correctamente.\n",
    "\n",
    "9. **Otro familiar**\n",
    "   - **Precision**: 0.00\n",
    "   - **Recall**: 0.00\n",
    "   - **F1-Score**: 0.00\n",
    "   - **Support**: 85\n",
    "   - Interpretación: El modelo no ha predicho ninguna instancia correctamente.\n",
    "\n",
    "10. **Padrastro**\n",
    "    - **Precision**: 0.38\n",
    "    - **Recall**: 0.45\n",
    "    - **F1-Score**: 0.41\n",
    "    - **Support**: 99\n",
    "    - Interpretación: El modelo tiene un rendimiento moderado en esta clase.\n",
    "\n",
    "11. **Padre**\n",
    "    - **Precision**: 0.27\n",
    "    - **Recall**: 0.15\n",
    "    - **F1-Score**: 0.19\n",
    "    - **Support**: 99\n",
    "    - Interpretación: El modelo tiene un rendimiento bajo en esta clase.\n",
    "\n",
    "12. **Pareja**\n",
    "    - **Precision**: 0.36\n",
    "    - **Recall**: 0.27\n",
    "    - **F1-Score**: 0.31\n",
    "    - **Support**: 15\n",
    "    - Interpretación: El modelo tiene un rendimiento bajo en esta clase.\n",
    "\n",
    "13. **Pareja de la víctima**\n",
    "    - **Precision**: 0.00\n",
    "    - **Recall**: 0.00\n",
    "    - **F1-Score**: 0.00\n",
    "    - **Support**: 16\n",
    "    - Interpretación: El modelo no ha predicho ninguna instancia correctamente.\n",
    "\n",
    "14. **Sin datos**\n",
    "    - **Precision**: 0.41\n",
    "    - **Recall**: 0.32\n",
    "    - **F1-Score**: 0.36\n",
    "    - **Support**: 92\n",
    "    - Interpretación: El modelo tiene un rendimiento bajo-moderado en esta clase.\n",
    "\n",
    "15. **Tío**\n",
    "    - **Precision**: 0.00\n",
    "    - **Recall**: 0.00\n",
    "    - **F1-Score**: 0.00\n",
    "    - **Support**: 69\n",
    "    - Interpretación: El modelo no ha predicho ninguna instancia correctamente.\n",
    "\n",
    "#### Macro y Weighted Average\n",
    "- **Macro avg**\n",
    "  - **Precision**: 0.21\n",
    "  - **Recall**: 0.15\n",
    "  - **F1-Score**: 0.15\n",
    "  - Estas métricas promedio consideran todas las clases igualmente y muestran que, en general, el modelo tiene un bajo rendimiento en términos de precisión, sensibilidad y F1-score.\n",
    "\n",
    "- **Weighted avg**\n",
    "  - **Precision**: 0.34\n",
    "  - **Recall**: 0.39\n",
    "  - **F1-Score**: 0.32\n",
    "  - Estas métricas promedio ponderan las clases por el número de instancias en cada clase y también muestran un rendimiento general bajo-moderado del modelo.\n",
    "\n",
    "### Resumen\n",
    "\n",
    "El modelo SVM no está funcionando bien en muchas clases, especialmente en aquellas con menos instancias (por ejemplo, \"Abuelo/a\", \"Hermana\", \"Madre\", etc.). Tiene un rendimiento moderado en clases más representadas como \"Conocido no familiar\" y \"Desconocido\", pero en general, el rendimiento del modelo es bajo.\n",
    "\n",
    "### Recomendaciones\n",
    "\n",
    "1. **Rebalanceo de datos**: Considerar técnicas como el sobremuestreo de clases minoritarias o el submuestreo de clases mayoritarias.\n",
    "2. **Ajustes de hiperparámetros más finos**: Probar con más combinaciones de hiperparámetros.\n",
    "3. **Características adicionales**: Explorar la inclusión de más características relevantes o la ingeniería de características para mejorar el modelo.\n",
    "4. **Modelos alternativos**: Considerar probar otros modelos de clasificación que puedan manejar mejor la clase desbalanceada, como Random Forest o Gradient Boosting."
   ]
  },
  {
   "cell_type": "markdown",
   "id": "f80cb65b-f901-4de0-8eff-b1cfe46feca4",
   "metadata": {},
   "source": [
    "<H2>Tensor Flow</H2>"
   ]
  },
  {
   "cell_type": "code",
   "execution_count": 155,
   "id": "6b8f6a17-aecf-4af8-a8cf-278dea698a58",
   "metadata": {},
   "outputs": [],
   "source": [
    "import tensorflow as tf\n",
    "import pandas as pd\n",
    "import numpy as np\n",
    "import matplotlib.pyplot as plt\n",
    "import seaborn as sns\n",
    "from sklearn.model_selection import train_test_split, cross_val_score, learning_curve, StratifiedKFold\n",
    "from sklearn.preprocessing import StandardScaler, LabelEncoder\n",
    "from sklearn.metrics import classification_report, accuracy_score, confusion_matrix\n",
    "from tensorflow.keras.models import Sequential\n",
    "from tensorflow.keras.layers import Dense, Dropout\n",
    "from tensorflow.keras.wrappers.scikit_learn import KerasClassifier\n",
    "from tensorflow.keras.utils import to_categorical"
   ]
  },
  {
   "cell_type": "code",
   "execution_count": 156,
   "id": "4636104e-273a-4fe0-9a17-762467adee30",
   "metadata": {},
   "outputs": [],
   "source": [
    "# Cargar los datos\n",
    "url1 = '/home/julio/jupyter_files/ArgentinaSeguridad/linea137/datos3.csv'\n",
    "df = pd.read_csv(url1)"
   ]
  },
  {
   "cell_type": "code",
   "execution_count": 157,
   "id": "4227374f-ab3f-4166-a8e0-e778d7e434fd",
   "metadata": {},
   "outputs": [],
   "source": [
    "# Paso 1: Contar las ocurrencias de cada clase y filtrar la clase menos poblada\n",
    "class_counts = df['VincAgr1'].value_counts()\n",
    "min_class = class_counts.idxmin()\n",
    "df_filtered = df[df['VincAgr1'] != min_class]"
   ]
  },
  {
   "cell_type": "code",
   "execution_count": 158,
   "id": "c129d580-2917-4252-9ba4-0213a2ae83a8",
   "metadata": {},
   "outputs": [],
   "source": [
    "# Paso 2: Dividir en características (X) y etiquetas (y) después de filtrar\n",
    "X = df_filtered.drop(columns=['VincAgr1']).values\n",
    "y = df_filtered['VincAgr1'].values"
   ]
  },
  {
   "cell_type": "code",
   "execution_count": 159,
   "id": "532eb8df-2f54-4326-a084-83598c4233c4",
   "metadata": {},
   "outputs": [],
   "source": [
    "# Paso 3: Codificación de variables categóricas (one-hot encoding)\n",
    "X_encoded = pd.get_dummies(df_filtered, drop_first=True)\n",
    "numeric_cols = X_encoded.select_dtypes(include=['int64', 'float64']).columns\n",
    "scaler = StandardScaler()\n",
    "X_encoded.loc[:, numeric_cols] = scaler.fit_transform(X_encoded.loc[:, numeric_cols])\n",
    "\n",
    "# Convertir etiquetas a formato one-hot\n",
    "label_encoder = LabelEncoder()\n",
    "y_encoded = label_encoder.fit_transform(y)\n",
    "y_categorical = to_categorical(y_encoded)\n",
    "\n",
    "# Definir una función para crear el modelo de Keras\n",
    "def create_model():\n",
    "    model = Sequential([\n",
    "        Dense(128, activation='relu', input_shape=(X_encoded.shape[1],)),\n",
    "        Dropout(0.3),\n",
    "        Dense(64, activation='relu'),\n",
    "        Dropout(0.3),\n",
    "        Dense(len(label_encoder.classes_), activation='softmax')\n",
    "    ])\n",
    "\n",
    "    model.compile(optimizer='adam',\n",
    "                  loss='categorical_crossentropy',\n",
    "                  metrics=['accuracy'])\n",
    "    return model"
   ]
  },
  {
   "cell_type": "code",
   "execution_count": 160,
   "id": "273c2730-95c8-4483-839d-726ceba32957",
   "metadata": {},
   "outputs": [
    {
     "name": "stderr",
     "output_type": "stream",
     "text": [
      "/tmp/ipykernel_9981/2295216032.py:2: DeprecationWarning: KerasClassifier is deprecated, use Sci-Keras (https://github.com/adriangb/scikeras) instead. See https://www.adriangb.com/scikeras/stable/migration.html for help migrating.\n",
      "  estimator = KerasClassifier(build_fn=create_model, epochs=50, batch_size=32, verbose=0)\n"
     ]
    }
   ],
   "source": [
    "# Paso 4: Integrar el modelo con KerasClassifier\n",
    "estimator = KerasClassifier(build_fn=create_model, epochs=50, batch_size=32, verbose=0)"
   ]
  },
  {
   "cell_type": "code",
   "execution_count": 162,
   "id": "7d98bc04-1041-44fa-b721-6c80f5432974",
   "metadata": {},
   "outputs": [
    {
     "name": "stdout",
     "output_type": "stream",
     "text": [
      "\n",
      "Accuracy promedio de validación cruzada: 1.00 (+/- 0.00)\n"
     ]
    }
   ],
   "source": [
    "# Paso 5: Realizar validación cruzada con StratifiedKFold (para mantener la proporción de clases en cada fold)\n",
    "kfold = StratifiedKFold(n_splits=5, shuffle=True, random_state=42)\n",
    "results = cross_val_score(estimator, X_encoded, y_encoded, cv=kfold)\n",
    "# Imprimir los resultados de la validación cruzada\n",
    "print(\"\\nAccuracy promedio de validación cruzada: %0.2f (+/- %0.2f)\" % (results.mean(), results.std() * 2))"
   ]
  },
  {
   "cell_type": "code",
   "execution_count": 163,
   "id": "80bfa626-93e0-477e-88d3-8e78c3a47199",
   "metadata": {},
   "outputs": [],
   "source": [
    "# Paso 6: Dividir nuevamente después de la codificación y estandarización para obtener datos de entrenamiento y prueba\n",
    "X_train, X_test, y_train, y_test = train_test_split(X_encoded, y_categorical, test_size=0.3, random_state=42)"
   ]
  },
  {
   "cell_type": "code",
   "execution_count": 164,
   "id": "f6c9193d-e2bb-4846-b207-d5f6b81b3a82",
   "metadata": {},
   "outputs": [],
   "source": [
    "# Paso 7: Definir y compilar el modelo de redes neuronales\n",
    "model = create_model()"
   ]
  },
  {
   "cell_type": "code",
   "execution_count": 165,
   "id": "0abfed17-edf6-4249-8981-bfa9be2c74e2",
   "metadata": {},
   "outputs": [
    {
     "name": "stdout",
     "output_type": "stream",
     "text": [
      "Epoch 1/50\n",
      "136/136 [==============================] - 2s 7ms/step - loss: 1.5556 - accuracy: 0.5307 - val_loss: 0.5971 - val_accuracy: 0.9030\n",
      "Epoch 2/50\n",
      "136/136 [==============================] - 1s 4ms/step - loss: 0.4041 - accuracy: 0.9140 - val_loss: 0.0864 - val_accuracy: 0.9839\n",
      "Epoch 3/50\n",
      "136/136 [==============================] - 1s 4ms/step - loss: 0.1279 - accuracy: 0.9768 - val_loss: 0.0269 - val_accuracy: 0.9984\n",
      "Epoch 4/50\n",
      "136/136 [==============================] - 1s 4ms/step - loss: 0.0686 - accuracy: 0.9887 - val_loss: 0.0134 - val_accuracy: 0.9984\n",
      "Epoch 5/50\n",
      "136/136 [==============================] - 0s 4ms/step - loss: 0.0403 - accuracy: 0.9929 - val_loss: 0.0074 - val_accuracy: 1.0000\n",
      "Epoch 6/50\n",
      "136/136 [==============================] - 1s 4ms/step - loss: 0.0290 - accuracy: 0.9954 - val_loss: 0.0046 - val_accuracy: 1.0000\n",
      "Epoch 7/50\n",
      "136/136 [==============================] - 1s 5ms/step - loss: 0.0198 - accuracy: 0.9975 - val_loss: 0.0026 - val_accuracy: 1.0000\n",
      "Epoch 8/50\n",
      "136/136 [==============================] - 1s 5ms/step - loss: 0.0163 - accuracy: 0.9975 - val_loss: 0.0020 - val_accuracy: 1.0000\n",
      "Epoch 9/50\n",
      "136/136 [==============================] - 1s 5ms/step - loss: 0.0131 - accuracy: 0.9972 - val_loss: 0.0013 - val_accuracy: 1.0000\n",
      "Epoch 10/50\n",
      "136/136 [==============================] - 1s 4ms/step - loss: 0.0092 - accuracy: 0.9989 - val_loss: 8.2222e-04 - val_accuracy: 1.0000\n",
      "Epoch 11/50\n",
      "136/136 [==============================] - 1s 5ms/step - loss: 0.0078 - accuracy: 0.9986 - val_loss: 6.8615e-04 - val_accuracy: 1.0000\n",
      "Epoch 12/50\n",
      "136/136 [==============================] - 0s 3ms/step - loss: 0.0064 - accuracy: 0.9991 - val_loss: 4.9545e-04 - val_accuracy: 1.0000\n",
      "Epoch 13/50\n",
      "136/136 [==============================] - 0s 3ms/step - loss: 0.0044 - accuracy: 0.9995 - val_loss: 3.0456e-04 - val_accuracy: 1.0000\n",
      "Epoch 14/50\n",
      "136/136 [==============================] - 0s 3ms/step - loss: 0.0051 - accuracy: 0.9991 - val_loss: 4.6596e-04 - val_accuracy: 1.0000\n",
      "Epoch 15/50\n",
      "136/136 [==============================] - 0s 3ms/step - loss: 0.0046 - accuracy: 0.9993 - val_loss: 2.7255e-04 - val_accuracy: 1.0000\n",
      "Epoch 16/50\n",
      "136/136 [==============================] - 0s 3ms/step - loss: 0.0036 - accuracy: 0.9995 - val_loss: 2.1640e-04 - val_accuracy: 1.0000\n",
      "Epoch 17/50\n",
      "136/136 [==============================] - 0s 3ms/step - loss: 0.0027 - accuracy: 1.0000 - val_loss: 1.2990e-04 - val_accuracy: 1.0000\n",
      "Epoch 18/50\n",
      "136/136 [==============================] - 0s 4ms/step - loss: 0.0028 - accuracy: 0.9998 - val_loss: 1.8612e-04 - val_accuracy: 1.0000\n",
      "Epoch 19/50\n",
      "136/136 [==============================] - 0s 4ms/step - loss: 0.0018 - accuracy: 0.9998 - val_loss: 9.9678e-05 - val_accuracy: 1.0000\n",
      "Epoch 20/50\n",
      "136/136 [==============================] - 0s 3ms/step - loss: 0.0022 - accuracy: 1.0000 - val_loss: 8.8391e-05 - val_accuracy: 1.0000\n",
      "Epoch 21/50\n",
      "136/136 [==============================] - 0s 3ms/step - loss: 0.0018 - accuracy: 1.0000 - val_loss: 1.2998e-04 - val_accuracy: 1.0000\n",
      "Epoch 22/50\n",
      "136/136 [==============================] - 0s 3ms/step - loss: 0.0014 - accuracy: 1.0000 - val_loss: 8.4053e-05 - val_accuracy: 1.0000\n",
      "Epoch 23/50\n",
      "136/136 [==============================] - 0s 3ms/step - loss: 0.0016 - accuracy: 0.9995 - val_loss: 2.9899e-04 - val_accuracy: 1.0000\n",
      "Epoch 24/50\n",
      "136/136 [==============================] - 1s 4ms/step - loss: 0.0014 - accuracy: 0.9995 - val_loss: 8.0718e-05 - val_accuracy: 1.0000\n",
      "Epoch 25/50\n",
      "136/136 [==============================] - 0s 3ms/step - loss: 0.0010 - accuracy: 1.0000 - val_loss: 4.5638e-05 - val_accuracy: 1.0000\n",
      "Epoch 26/50\n",
      "136/136 [==============================] - 0s 3ms/step - loss: 0.0013 - accuracy: 0.9998 - val_loss: 1.0613e-04 - val_accuracy: 1.0000\n",
      "Epoch 27/50\n",
      "136/136 [==============================] - 0s 3ms/step - loss: 0.0015 - accuracy: 0.9998 - val_loss: 6.3780e-05 - val_accuracy: 1.0000\n",
      "Epoch 28/50\n",
      "136/136 [==============================] - 0s 3ms/step - loss: 9.7529e-04 - accuracy: 1.0000 - val_loss: 5.4777e-05 - val_accuracy: 1.0000\n",
      "Epoch 29/50\n",
      "136/136 [==============================] - 0s 3ms/step - loss: 0.0011 - accuracy: 1.0000 - val_loss: 2.5971e-05 - val_accuracy: 1.0000\n",
      "Epoch 30/50\n",
      "136/136 [==============================] - 0s 3ms/step - loss: 8.9170e-04 - accuracy: 0.9998 - val_loss: 5.7742e-05 - val_accuracy: 1.0000\n",
      "Epoch 31/50\n",
      "136/136 [==============================] - 1s 5ms/step - loss: 6.9366e-04 - accuracy: 1.0000 - val_loss: 1.4791e-05 - val_accuracy: 1.0000\n",
      "Epoch 32/50\n",
      "136/136 [==============================] - 0s 3ms/step - loss: 6.4047e-04 - accuracy: 1.0000 - val_loss: 4.9115e-05 - val_accuracy: 1.0000\n",
      "Epoch 33/50\n",
      "136/136 [==============================] - 0s 3ms/step - loss: 4.0055e-04 - accuracy: 1.0000 - val_loss: 1.5366e-05 - val_accuracy: 1.0000\n",
      "Epoch 34/50\n",
      "136/136 [==============================] - 1s 4ms/step - loss: 6.0625e-04 - accuracy: 1.0000 - val_loss: 1.4315e-05 - val_accuracy: 1.0000\n",
      "Epoch 35/50\n",
      "136/136 [==============================] - 1s 4ms/step - loss: 3.6975e-04 - accuracy: 1.0000 - val_loss: 2.3357e-05 - val_accuracy: 1.0000\n",
      "Epoch 36/50\n",
      "136/136 [==============================] - 0s 3ms/step - loss: 2.9971e-04 - accuracy: 1.0000 - val_loss: 1.9461e-05 - val_accuracy: 1.0000\n",
      "Epoch 37/50\n",
      "136/136 [==============================] - 0s 3ms/step - loss: 2.1820e-04 - accuracy: 1.0000 - val_loss: 1.0941e-05 - val_accuracy: 1.0000\n",
      "Epoch 38/50\n",
      "136/136 [==============================] - 0s 3ms/step - loss: 3.4928e-04 - accuracy: 1.0000 - val_loss: 1.4962e-05 - val_accuracy: 1.0000\n",
      "Epoch 39/50\n",
      "136/136 [==============================] - 0s 4ms/step - loss: 2.6983e-04 - accuracy: 1.0000 - val_loss: 8.8629e-06 - val_accuracy: 1.0000\n",
      "Epoch 40/50\n",
      "136/136 [==============================] - 0s 3ms/step - loss: 5.4254e-04 - accuracy: 1.0000 - val_loss: 5.8732e-06 - val_accuracy: 1.0000\n",
      "Epoch 41/50\n",
      "136/136 [==============================] - 0s 3ms/step - loss: 4.1324e-04 - accuracy: 1.0000 - val_loss: 8.6982e-06 - val_accuracy: 1.0000\n",
      "Epoch 42/50\n",
      "136/136 [==============================] - 0s 3ms/step - loss: 2.6816e-04 - accuracy: 1.0000 - val_loss: 4.1540e-06 - val_accuracy: 1.0000\n",
      "Epoch 43/50\n",
      "136/136 [==============================] - 1s 4ms/step - loss: 2.3415e-04 - accuracy: 1.0000 - val_loss: 2.4777e-06 - val_accuracy: 1.0000\n",
      "Epoch 44/50\n",
      "136/136 [==============================] - 0s 3ms/step - loss: 2.5779e-04 - accuracy: 1.0000 - val_loss: 7.3467e-06 - val_accuracy: 1.0000\n",
      "Epoch 45/50\n",
      "136/136 [==============================] - 1s 5ms/step - loss: 1.6305e-04 - accuracy: 1.0000 - val_loss: 5.8412e-06 - val_accuracy: 1.0000\n",
      "Epoch 46/50\n",
      "136/136 [==============================] - 1s 10ms/step - loss: 3.6328e-04 - accuracy: 1.0000 - val_loss: 6.5919e-06 - val_accuracy: 1.0000\n",
      "Epoch 47/50\n",
      "136/136 [==============================] - 1s 8ms/step - loss: 5.2175e-04 - accuracy: 1.0000 - val_loss: 3.1069e-06 - val_accuracy: 1.0000\n",
      "Epoch 48/50\n",
      "136/136 [==============================] - 1s 9ms/step - loss: 2.7181e-04 - accuracy: 1.0000 - val_loss: 1.0266e-05 - val_accuracy: 1.0000\n",
      "Epoch 49/50\n",
      "136/136 [==============================] - 1s 8ms/step - loss: 1.9889e-04 - accuracy: 1.0000 - val_loss: 6.7308e-06 - val_accuracy: 1.0000\n",
      "Epoch 50/50\n",
      "136/136 [==============================] - 1s 5ms/step - loss: 1.7957e-04 - accuracy: 1.0000 - val_loss: 1.7907e-06 - val_accuracy: 1.0000\n"
     ]
    }
   ],
   "source": [
    "# Paso 8: Entrenar el modelo\n",
    "history = model.fit(X_train, y_train, epochs=50, batch_size=32, validation_data=(X_test, y_test), verbose=1)"
   ]
  },
  {
   "cell_type": "code",
   "execution_count": 166,
   "id": "64ae1e9f-818a-403e-beb5-a3ad219542c2",
   "metadata": {},
   "outputs": [
    {
     "name": "stdout",
     "output_type": "stream",
     "text": [
      "59/59 [==============================] - 0s 2ms/step\n"
     ]
    }
   ],
   "source": [
    "# Paso 9: Evaluar el modelo\n",
    "y_pred = model.predict(X_test)\n",
    "y_pred_classes = np.argmax(y_pred, axis=1)\n",
    "y_test_classes = np.argmax(y_test, axis=1)"
   ]
  },
  {
   "cell_type": "code",
   "execution_count": 167,
   "id": "273d0156-632b-4463-8c77-c5b0579e26f5",
   "metadata": {},
   "outputs": [
    {
     "name": "stdout",
     "output_type": "stream",
     "text": [
      "\n",
      "Accuracy: 1.0\n",
      "\n",
      "Classification Report:\n",
      "                      precision    recall  f1-score   support\n",
      "\n",
      "            Abuelo/a       1.00      1.00      1.00        34\n",
      "Conocido no familiar       1.00      1.00      1.00       616\n",
      "         Desconocido       1.00      1.00      1.00       396\n",
      "           Ex pareja       1.00      1.00      1.00        74\n",
      "           Hermano/a       1.00      1.00      1.00        36\n",
      "               Madre       1.00      1.00      1.00         2\n",
      "       Otro familiar       1.00      1.00      1.00       139\n",
      "           Padrastro       1.00      1.00      1.00       149\n",
      "               Padre       1.00      1.00      1.00       146\n",
      "              Pareja       1.00      1.00      1.00        55\n",
      "           Sin datos       1.00      1.00      1.00       125\n",
      "                 Tío       1.00      1.00      1.00        94\n",
      "\n",
      "            accuracy                           1.00      1866\n",
      "           macro avg       1.00      1.00      1.00      1866\n",
      "        weighted avg       1.00      1.00      1.00      1866\n",
      "\n"
     ]
    }
   ],
   "source": [
    "print(\"\\nAccuracy:\", accuracy_score(y_test_classes, y_pred_classes))\n",
    "print(\"\\nClassification Report:\")\n",
    "print(classification_report(y_test_classes, y_pred_classes, target_names=label_encoder.classes_))"
   ]
  },
  {
   "cell_type": "code",
   "execution_count": 168,
   "id": "83f29a0b-4e2f-476e-a48c-999c19959414",
   "metadata": {},
   "outputs": [
    {
     "name": "stderr",
     "output_type": "stream",
     "text": [
      "2024-07-10 11:40:35.909593: W tensorflow/stream_executor/platform/default/dso_loader.cc:64] Could not load dynamic library 'libcudart.so.11.0'; dlerror: libcudart.so.11.0: cannot open shared object file: No such file or directory\n",
      "2024-07-10 11:40:35.909641: I tensorflow/stream_executor/cuda/cudart_stub.cc:29] Ignore above cudart dlerror if you do not have a GPU set up on your machine.\n",
      "2024-07-10 11:40:36.595957: W tensorflow/stream_executor/platform/default/dso_loader.cc:64] Could not load dynamic library 'libcudart.so.11.0'; dlerror: libcudart.so.11.0: cannot open shared object file: No such file or directory\n",
      "2024-07-10 11:40:36.596003: I tensorflow/stream_executor/cuda/cudart_stub.cc:29] Ignore above cudart dlerror if you do not have a GPU set up on your machine.\n",
      "2024-07-10 11:40:36.631917: W tensorflow/stream_executor/platform/default/dso_loader.cc:64] Could not load dynamic library 'libcudart.so.11.0'; dlerror: libcudart.so.11.0: cannot open shared object file: No such file or directory\n",
      "2024-07-10 11:40:36.631959: I tensorflow/stream_executor/cuda/cudart_stub.cc:29] Ignore above cudart dlerror if you do not have a GPU set up on your machine.\n",
      "2024-07-10 11:40:36.813398: W tensorflow/stream_executor/platform/default/dso_loader.cc:64] Could not load dynamic library 'libcudart.so.11.0'; dlerror: libcudart.so.11.0: cannot open shared object file: No such file or directory\n",
      "2024-07-10 11:40:36.814826: I tensorflow/stream_executor/cuda/cudart_stub.cc:29] Ignore above cudart dlerror if you do not have a GPU set up on your machine.\n",
      "2024-07-10 11:40:41.112521: W tensorflow/stream_executor/platform/default/dso_loader.cc:64] Could not load dynamic library 'libcuda.so.1'; dlerror: libcuda.so.1: cannot open shared object file: No such file or directory\n",
      "2024-07-10 11:40:41.112567: W tensorflow/stream_executor/cuda/cuda_driver.cc:269] failed call to cuInit: UNKNOWN ERROR (303)\n",
      "2024-07-10 11:40:41.112600: I tensorflow/stream_executor/cuda/cuda_diagnostics.cc:156] kernel driver does not appear to be running on this host (julio-CR61-2M-CX61-2OC-CX61-2OD): /proc/driver/nvidia/version does not exist\n",
      "2024-07-10 11:40:41.112960: I tensorflow/core/platform/cpu_feature_guard.cc:193] This TensorFlow binary is optimized with oneAPI Deep Neural Network Library (oneDNN) to use the following CPU instructions in performance-critical operations:  AVX2 FMA\n",
      "To enable them in other operations, rebuild TensorFlow with the appropriate compiler flags.\n",
      "2024-07-10 11:40:43.478615: W tensorflow/stream_executor/platform/default/dso_loader.cc:64] Could not load dynamic library 'libcuda.so.1'; dlerror: libcuda.so.1: cannot open shared object file: No such file or directory\n",
      "2024-07-10 11:40:43.478662: W tensorflow/stream_executor/cuda/cuda_driver.cc:269] failed call to cuInit: UNKNOWN ERROR (303)\n",
      "2024-07-10 11:40:43.478694: I tensorflow/stream_executor/cuda/cuda_diagnostics.cc:156] kernel driver does not appear to be running on this host (julio-CR61-2M-CX61-2OC-CX61-2OD): /proc/driver/nvidia/version does not exist\n",
      "2024-07-10 11:40:43.479081: I tensorflow/core/platform/cpu_feature_guard.cc:193] This TensorFlow binary is optimized with oneAPI Deep Neural Network Library (oneDNN) to use the following CPU instructions in performance-critical operations:  AVX2 FMA\n",
      "To enable them in other operations, rebuild TensorFlow with the appropriate compiler flags.\n",
      "2024-07-10 11:40:44.194139: W tensorflow/stream_executor/platform/default/dso_loader.cc:64] Could not load dynamic library 'libcuda.so.1'; dlerror: libcuda.so.1: cannot open shared object file: No such file or directory\n",
      "2024-07-10 11:40:44.194187: W tensorflow/stream_executor/cuda/cuda_driver.cc:269] failed call to cuInit: UNKNOWN ERROR (303)\n",
      "2024-07-10 11:40:44.194218: I tensorflow/stream_executor/cuda/cuda_diagnostics.cc:156] kernel driver does not appear to be running on this host (julio-CR61-2M-CX61-2OC-CX61-2OD): /proc/driver/nvidia/version does not exist\n",
      "2024-07-10 11:40:44.194622: I tensorflow/core/platform/cpu_feature_guard.cc:193] This TensorFlow binary is optimized with oneAPI Deep Neural Network Library (oneDNN) to use the following CPU instructions in performance-critical operations:  AVX2 FMA\n",
      "To enable them in other operations, rebuild TensorFlow with the appropriate compiler flags.\n",
      "2024-07-10 11:40:44.309941: W tensorflow/stream_executor/platform/default/dso_loader.cc:64] Could not load dynamic library 'libcuda.so.1'; dlerror: libcuda.so.1: cannot open shared object file: No such file or directory\n",
      "2024-07-10 11:40:44.309983: W tensorflow/stream_executor/cuda/cuda_driver.cc:269] failed call to cuInit: UNKNOWN ERROR (303)\n",
      "2024-07-10 11:40:44.310015: I tensorflow/stream_executor/cuda/cuda_diagnostics.cc:156] kernel driver does not appear to be running on this host (julio-CR61-2M-CX61-2OC-CX61-2OD): /proc/driver/nvidia/version does not exist\n",
      "2024-07-10 11:40:44.310343: I tensorflow/core/platform/cpu_feature_guard.cc:193] This TensorFlow binary is optimized with oneAPI Deep Neural Network Library (oneDNN) to use the following CPU instructions in performance-critical operations:  AVX2 FMA\n",
      "To enable them in other operations, rebuild TensorFlow with the appropriate compiler flags.\n",
      "/home/julio/.local/lib/python3.10/site-packages/sklearn/model_selection/_validation.py:547: FitFailedWarning: \n",
      "1 fits failed out of a total of 25.\n",
      "The score on these train-test partitions for these parameters will be set to nan.\n",
      "If these failures are not expected, you can try to debug them by setting error_score='raise'.\n",
      "\n",
      "Below are more details about the failures:\n",
      "--------------------------------------------------------------------------------\n",
      "1 fits failed with the following error:\n",
      "Traceback (most recent call last):\n",
      "  File \"/home/julio/.local/lib/python3.10/site-packages/sklearn/model_selection/_validation.py\", line 895, in _fit_and_score\n",
      "    estimator.fit(X_train, y_train, **fit_params)\n",
      "  File \"/home/julio/.local/lib/python3.10/site-packages/keras/wrappers/scikit_learn.py\", line 236, in fit\n",
      "    return super(KerasClassifier, self).fit(x, y, **kwargs)\n",
      "  File \"/home/julio/.local/lib/python3.10/site-packages/keras/wrappers/scikit_learn.py\", line 164, in fit\n",
      "    history = self.model.fit(x, y, **fit_args)\n",
      "  File \"/home/julio/.local/lib/python3.10/site-packages/keras/utils/traceback_utils.py\", line 67, in error_handler\n",
      "    raise e.with_traceback(filtered_tb) from None\n",
      "  File \"/tmp/__autograph_generated_fileohdrhr3g.py\", line 15, in tf__train_function\n",
      "    retval_ = ag__.converted_call(ag__.ld(step_function), (ag__.ld(self), ag__.ld(iterator)), None, fscope)\n",
      "ValueError: in user code:\n",
      "\n",
      "    File \"/home/julio/.local/lib/python3.10/site-packages/keras/engine/training.py\", line 1051, in train_function  *\n",
      "        return step_function(self, iterator)\n",
      "    File \"/home/julio/.local/lib/python3.10/site-packages/keras/engine/training.py\", line 1040, in step_function  **\n",
      "        outputs = model.distribute_strategy.run(run_step, args=(data,))\n",
      "    File \"/home/julio/.local/lib/python3.10/site-packages/keras/engine/training.py\", line 1030, in run_step  **\n",
      "        outputs = model.train_step(data)\n",
      "    File \"/home/julio/.local/lib/python3.10/site-packages/keras/engine/training.py\", line 890, in train_step\n",
      "        loss = self.compute_loss(x, y, y_pred, sample_weight)\n",
      "    File \"/home/julio/.local/lib/python3.10/site-packages/keras/engine/training.py\", line 948, in compute_loss\n",
      "        return self.compiled_loss(\n",
      "    File \"/home/julio/.local/lib/python3.10/site-packages/keras/engine/compile_utils.py\", line 201, in __call__\n",
      "        loss_value = loss_obj(y_t, y_p, sample_weight=sw)\n",
      "    File \"/home/julio/.local/lib/python3.10/site-packages/keras/losses.py\", line 139, in __call__\n",
      "        losses = call_fn(y_true, y_pred)\n",
      "    File \"/home/julio/.local/lib/python3.10/site-packages/keras/losses.py\", line 243, in call  **\n",
      "        return ag_fn(y_true, y_pred, **self._fn_kwargs)\n",
      "    File \"/home/julio/.local/lib/python3.10/site-packages/keras/losses.py\", line 1787, in categorical_crossentropy\n",
      "        return backend.categorical_crossentropy(\n",
      "    File \"/home/julio/.local/lib/python3.10/site-packages/keras/backend.py\", line 5119, in categorical_crossentropy\n",
      "        target.shape.assert_is_compatible_with(output.shape)\n",
      "\n",
      "    ValueError: Shapes (None, 11) and (None, 12) are incompatible\n",
      "\n",
      "\n",
      "  warnings.warn(some_fits_failed_message, FitFailedWarning)\n"
     ]
    },
    {
     "data": {
      "image/png": "[encoded data removed]",
      "text/plain": [
       "<Figure size 640x480 with 1 Axes>"
      ]
     },
     "metadata": {},
     "output_type": "display_data"
    }
   ],
   "source": [
    "# Integración de Curva de Aprendizaje\n",
    "def plot_learning_curve(estimator, title, X, y, ylim=None, cv=None, n_jobs=None, train_sizes=np.linspace(.1, 1.0, 5)):\n",
    "    plt.figure()\n",
    "    plt.title(title)\n",
    "    if ylim is not None:\n",
    "        plt.ylim(*ylim)\n",
    "    plt.xlabel(\"Número de ejemplos de entrenamiento\")\n",
    "    plt.ylabel(\"Puntuación\")\n",
    "    train_sizes, train_scores, test_scores = learning_curve(\n",
    "        estimator, X, y, cv=cv, n_jobs=n_jobs, train_sizes=train_sizes)\n",
    "    train_scores_mean = np.mean(train_scores, axis=1)\n",
    "    train_scores_std = np.std(train_scores, axis=1)\n",
    "    test_scores_mean = np.mean(test_scores, axis=1)\n",
    "    test_scores_std = np.std(test_scores, axis=1)\n",
    "    plt.grid()\n",
    "\n",
    "    plt.fill_between(train_sizes, train_scores_mean - train_scores_std,\n",
    "                     train_scores_mean + train_scores_std, alpha=0.1,\n",
    "                     color=\"r\")\n",
    "    plt.fill_between(train_sizes, test_scores_mean - test_scores_std,\n",
    "                     test_scores_mean + test_scores_std, alpha=0.1, color=\"g\")\n",
    "    plt.plot(train_sizes, train_scores_mean, 'o-', color=\"r\",\n",
    "             label=\"Puntuación de entrenamiento\")\n",
    "    plt.plot(train_sizes, test_scores_mean, 'o-', color=\"g\",\n",
    "             label=\"Puntuación de validación cruzada\")\n",
    "\n",
    "    plt.legend(loc=\"best\")\n",
    "    return plt\n",
    "\n",
    "plot_learning_curve(estimator, \"Curva de Aprendizaje\", X_encoded, y_encoded, cv=kfold, n_jobs=-1)\n",
    "plt.show()"
   ]
  },
  {
   "cell_type": "code",
   "execution_count": 169,
   "id": "b333d887-e5fd-4a2a-970e-24b1ee851409",
   "metadata": {},
   "outputs": [
    {
     "data": {
      "image/png": "[encoded data removed]",
      "text/plain": [
       "<Figure size 1000x800 with 2 Axes>"
      ]
     },
     "metadata": {},
     "output_type": "display_data"
    }
   ],
   "source": [
    "# Integración de Matriz de Confusión\n",
    "conf_matrix = confusion_matrix(y_test_classes, y_pred_classes)\n",
    "plt.figure(figsize=(10, 8))\n",
    "sns.heatmap(conf_matrix, annot=True, cmap='Blues', fmt='g', xticklabels=label_encoder.classes_, yticklabels=label_encoder.classes_)\n",
    "plt.xlabel('Predicted')\n",
    "plt.ylabel('Actual')\n",
    "plt.title('Matriz de Confusión')\n",
    "plt.show()"
   ]
  },
  {
   "cell_type": "markdown",
   "id": "ba4390f6-78b8-4749-9b88-bb91e7c105d9",
   "metadata": {},
   "source": [
    "Estos resultados indican un rendimiento perfecto del modelo en todas las métricas evaluadas:\n",
    "\n",
    "1. **Accuracy (Precisión Global)**: Es del 100%, lo cual significa que el modelo clasificó correctamente todas las muestras en el conjunto de prueba.\n",
    "\n",
    "2. **Classification Report (Reporte de Clasificación)**:\n",
    "   - **Precision (Precisión)**: Para cada clase, la precisión es del 100%, lo que indica que todas las muestras clasificadas como pertenecientes a una clase específica fueron correctas.\n",
    "   - **Recall (Exhaustividad)**: También es del 100% para todas las clases, lo que significa que el modelo identificó correctamente todas las muestras que realmente pertenecían a cada clase.\n",
    "   - **F1-score**: Es del 100% para todas las clases, lo cual es una medida combinada de precisión y recall. Indica un buen equilibrio entre ambos.\n",
    "   - **Support**: Es el número de muestras verdaderas para cada clase en el conjunto de prueba.\n",
    "\n",
    "3. **Promedio Ponderado y Promedio Macro**: Ambos son del 100%, lo que confirma que el modelo no solo tiene un rendimiento perfecto en cada clase individualmente, sino también globalmente.\n",
    "\n",
    "En resumen, estos resultados sugieren que el modelo ha aprendido de manera efectiva y ha generalizado bien para clasificar todas las clases correctamente en el conjunto de datos evaluado."
   ]
  },
  {
   "cell_type": "code",
   "execution_count": null,
   "id": "9e079e06-a0d7-4b63-bc8a-72520674879f",
   "metadata": {},
   "outputs": [],
   "source": []
  }
 ],
 "metadata": {
  "kernelspec": {
   "display_name": "Python 3 (ipykernel)",
   "language": "python",
   "name": "python3"
  },
  "language_info": {
   "codemirror_mode": {
    "name": "ipython",
    "version": 3
   },
   "file_extension": ".py",
   "mimetype": "text/x-python",
   "name": "python",
   "nbconvert_exporter": "python",
   "pygments_lexer": "ipython3",
   "version": "3.10.12"
  }
 },
 "nbformat": 4,
 "nbformat_minor": 5
}
